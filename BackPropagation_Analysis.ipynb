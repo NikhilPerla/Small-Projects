{
  "nbformat": 4,
  "nbformat_minor": 0,
  "metadata": {
    "colab": {
      "provenance": []
    },
    "kernelspec": {
      "name": "python3",
      "display_name": "Python 3"
    },
    "language_info": {
      "name": "python"
    }
  },
  "cells": [
    {
      "cell_type": "markdown",
      "metadata": {
        "id": "go4K2HWl1Vua"
      },
      "source": [
        "We consider a neural network with two inputs, 1 hidden layer with 3 hidden nodes, and one output. We are using the ReLU activation function at the hidden nodes. Mathematically, this can be represented as:\n",
        "\n",
        "$$\n",
        "h = \\sigma \\left( W^T x + b\\right), ~~~ z = V^T h + c\n",
        "$$\n",
        "\n",
        "where $\\sigma$ denotes the ReLU activation and\n",
        "\n",
        "$~~~~~~~~W =\n",
        "\\begin{bmatrix}\n",
        "w_{11} & w_{12} & w_{13} \\\\\n",
        "w_{21} & w_{22} & w_{23}\n",
        "\\end{bmatrix},~\n",
        "$\n",
        "$b =\n",
        "\\begin{bmatrix}\n",
        "b_{1}\\\\\n",
        "b_{2}\\\\\n",
        "b_{3}\n",
        "\\end{bmatrix},\n",
        "$\n",
        "$V = \\begin{bmatrix}\n",
        "v_{1}  \\\\\n",
        "v_{2}\\\\\n",
        "v_{3}\n",
        "\\end{bmatrix}$, c\n",
        "\n",
        "are the weights and the bias of the network. We will denote the output $z$ of this network as $f(\\theta, x)$.\n",
        "\n",
        "For a data point $(x, y)$, the loss function on this data point is defined as\n",
        "$$\n",
        "L(\\theta, x, y) = [f(\\theta, x) - y]^2.\n",
        "$$"
      ]
    },
    {
      "cell_type": "markdown",
      "metadata": {
        "id": "BhNRQLgI5eqq"
      },
      "source": [
        "Write a Python function to compute the forward map of the network."
      ]
    },
    {
      "cell_type": "code",
      "metadata": {
        "id": "n_00Sv3zmW1z"
      },
      "source": [
        "def relu(x):\n",
        "  return max(0, x)\n",
        "\n",
        "def fwd(inp, b, c, x):\n",
        "  w11, w12, w13, w21, w22, w23, v1, v2, v3 = inp\n",
        "  b1, b2, b3 = b\n",
        "  x1, x2 = x\n",
        "  h1 = relu(w11*x1 + w21*x2 + b1)\n",
        "  h2 = relu(w12*x1 + w22*x2 + b2)\n",
        "  h3 = relu(w13*x1 + w23*x2 + b3)\n",
        "\n",
        "  z  = (v1*h1 + v2 *h2 + v3*h3 + c)\n",
        "\n",
        "  return [h1,h2,h3,z];\n",
        "\n",
        "def lxy(inp, b, c, x, y):\n",
        "  h1,h2,h3,z = fwd(inp, b, c, x)\n",
        "  loss = ((z-y)**2)\n",
        "  return loss"
      ],
      "execution_count": null,
      "outputs": []
    },
    {
      "cell_type": "markdown",
      "metadata": {
        "id": "E-aQ5vGo9_0b"
      },
      "source": [
        "Write a Python function to compute the derivative of  𝐿 with respect to all parameters of the network."
      ]
    },
    {
      "cell_type": "code",
      "metadata": {
        "id": "nbPZnM9ArqgK"
      },
      "source": [
        "def derelu(x):\n",
        "  if x > 0:\n",
        "    return 1\n",
        "  return 0\n",
        "\n",
        "def Ltheta(inp, b, c, x, y):\n",
        "  h1,h2,h3,z = fwd(inp, b, c, x)\n",
        "  w11, w12, w13, w21, w22, w23, v1, v2, v3 = inp\n",
        "  b1, b2, b3 = b\n",
        "  x1, x2 = x\n",
        "  a = 2*(z-y)\n",
        "  lv1 = a*h1\n",
        "  lv2 = a*h2\n",
        "  lv3 = a*h3\n",
        "\n",
        "  dh1 = derelu(w11*x1 + w21*x2 + b1)\n",
        "  dh2 = derelu(w12*x1 + w22*x2 + b2)\n",
        "  dh3 = derelu(w13*x1 + w23*x2 + b3)\n",
        "\n",
        "  lw11 = a*x1* v1 * dh1\n",
        "  lw12 = a*x1* v2 * dh2\n",
        "  lw13 = a*x1* v3 * dh3\n",
        "  lw21 = a*x2* v1 * dh1\n",
        "  lw22 = a*x2* v2 * dh2\n",
        "  lw23 = a*x2* v3 * dh3\n",
        "\n",
        "  return [lw11, lw12, lw13, lw21, lw22, lw23, lv1, lv2, lv3]"
      ],
      "execution_count": null,
      "outputs": []
    },
    {
      "cell_type": "markdown",
      "metadata": {
        "id": "Cd2y0oup_442"
      },
      "source": [
        "Consider the dataset of two data points:\n",
        "*   $x_1 = \\begin{bmatrix}\n",
        "-1 \\\\\n",
        "1\n",
        "\\end{bmatrix}$, and $y_1 = 60$.\n",
        "*   $x_2 = \\begin{bmatrix}\n",
        "-1 \\\\\n",
        "0.5\n",
        "\\end{bmatrix}$, and $y_2 = 20$.\n",
        "\n",
        "Define\n",
        "$$\n",
        "J(\\theta) = L(\\theta, x_1, y_1) + L(\\theta, x_2, y_2)$$\n",
        "\n",
        "Implement the following procedure\n",
        "\n",
        "*   Start at a random value of $\\theta$\n",
        "*   Perform 100 steps of gradient descent for the objective function $J(\\theta)$ with learning rate $\\rho = 0.005$\n",
        "*   Plot the value of the objective function over the steps"
      ]
    },
    {
      "cell_type": "code",
      "source": [
        "from numpy.core.fromnumeric import shape\n",
        "import numpy as np\n",
        "import matplotlib.pyplot as plt\n",
        "\n",
        "x11 = [-1, 1]\n",
        "x22 = [-1, 0.5]\n",
        "y1, y2 = [60, 20]\n",
        "p = 0.005\n",
        "\n",
        "b = [1, 1, 1]\n",
        "c = 1\n",
        "\n",
        "#initial random value of THETA(θ)\n",
        "theta = [[1,-1,1,2,3,8,5,-3,3]]\n",
        "\n",
        "#Temporary J(θ)\n",
        "grad = []\n",
        "gradient = []\n",
        "inp1 =[1,-1,1,2,3,8,5,-3,3]\n",
        "loss = [lxy(inp1, b, c, x11, y1)]\n",
        "\n",
        "for i in range(100):\n",
        "  grad = np.add(Ltheta(inp1, b, c, x11, y1), Ltheta(inp1, b, c, x22, y2)) #J(θ)=L(θ,x1,y1)+L(θ,x2,y2)\n",
        "  gradient.append(grad)\n",
        "  inp1 = np.subtract(inp1,[x * p for x in grad])\n",
        "  loss.append(lxy(inp1, b, c, x11, y1))\n",
        "  theta.append(inp1)\n",
        "\n",
        "print(shape(gradient))\n",
        "print(shape(theta))\n",
        "print(theta[-1])\n",
        "\n",
        "\n",
        "plt.plot(loss)\n",
        "# plt.plot(gradient)"
      ],
      "metadata": {
        "id": "zVRfRKCo4X5X",
        "colab": {
          "base_uri": "https://localhost:8080/",
          "height": 522
        },
        "outputId": "1b288a48-1ccb-4bb2-e3c1-7da895357d63"
      },
      "execution_count": null,
      "outputs": [
        {
          "output_type": "stream",
          "name": "stdout",
          "text": [
            "(100, 9)\n",
            "(101, 9)\n",
            "[ 4.59887459  2.04357507  6.46296789 -0.41125485  0.27335591  4.04587004\n",
            " -0.27058879  0.2229246  -2.43870906]\n"
          ]
        },
        {
          "output_type": "execute_result",
          "data": {
            "text/plain": [
              "[<matplotlib.lines.Line2D at 0x7d02697bdab0>]"
            ]
          },
          "metadata": {},
          "execution_count": 17
        },
        {
          "output_type": "display_data",
          "data": {
            "text/plain": [
              "<Figure size 640x480 with 1 Axes>"
            ],
            "image/png": "[encoded data removed]"
          },
          "metadata": {}
        }
      ]
    }
  ]
}