{
  "nbformat": 4,
  "nbformat_minor": 0,
  "metadata": {
    "colab": {
      "provenance": []
    },
    "kernelspec": {
      "name": "python3",
      "display_name": "Python 3"
    }
  },
  "cells": [
    {
      "cell_type": "markdown",
      "source": [
        "## Diabetes Risk: Predicting Outcomes in Homogeneous Populations\n",
        "\n",
        "<img src=\"https://images.squarespace-cdn.com/content/v1/5a21a88bcd39c3ec782756ed/1519148471554-P8KM1H55H4ZXM3QWC2EJ/Diabetes12.jpg?format=2500w\" width=500>\n",
        "\n",
        "---"
      ],
      "metadata": {
        "id": "BNhRwcuf4ss_"
      }
    },
    {
      "cell_type": "markdown",
      "source": [
        "### **Part 1: Loading and Parsing the Data**"
      ],
      "metadata": {
        "id": "0JfgjBj16Snh"
      }
    },
    {
      "cell_type": "markdown",
      "source": [
        "**Load the study data from the `mlpp24/data/diabetes/` folder.**"
      ],
      "metadata": {
        "id": "LJyURkBM6Zjc"
      }
    },
    {
      "cell_type": "code",
      "source": [
        "import numpy as np\n",
        "import matplotlib.pyplot as plt\n",
        "import pandas as pd\n",
        "from sklearn.tree import DecisionTreeClassifier\n",
        "from sklearn.linear_model import LogisticRegression\n",
        "from sklearn import tree\n",
        "import plotly.graph_objects as go\n",
        "import graphviz"
      ],
      "metadata": {
        "id": "dEFpd0TXhUeJ"
      },
      "execution_count": null,
      "outputs": []
    },
    {
      "cell_type": "code",
      "source": [
        "from google.colab import drive\n",
        "drive.mount('/content/drive')"
      ],
      "metadata": {
        "colab": {
          "base_uri": "https://localhost:8080/"
        },
        "id": "a0w75ntag1my",
        "outputId": "adc31ea6-12b5-45f7-c12d-fc972388d4df"
      },
      "execution_count": null,
      "outputs": [
        {
          "output_type": "stream",
          "name": "stdout",
          "text": [
            "Mounted at /content/drive\n"
          ]
        }
      ]
    },
    {
      "cell_type": "code",
      "source": [
        "filepath = \"/content/drive/Shareddrives/mlpp24/data/diabetes/diabetes.csv\"\n",
        "data = pd.read_csv(filepath, skiprows=0)"
      ],
      "metadata": {
        "id": "36Ct0G2r6X7_"
      },
      "execution_count": null,
      "outputs": []
    },
    {
      "cell_type": "markdown",
      "source": [
        "**Display the contents of this data and describe <u>in your own words</u> what the content of each column is, including units where appropriate.**"
      ],
      "metadata": {
        "id": "lzpH7gXV6m2s"
      }
    },
    {
      "cell_type": "markdown",
      "source": [
        "The datasets consists of several medical predictor variables and one target variable, Outcome. Predictor variables includes the number of pregnancies the patient has had, their BMI, insulin level, age.\n",
        "\n",
        "Pregnancies : Number of times pregnant.\n",
        "\n",
        "Glucose :Plasma glucose concentration a 2 hours in an oral glucose tolerance test\n",
        "\n",
        "BloodPressure : Diastolic blood pressure (mm Hg)\n",
        "\n",
        "SkinThickness : Triceps skin fold thickness (mm)\n",
        "\n",
        "Insulin : 2-Hour serum insulin (mu U/ml)\n",
        "\n",
        "BMI : Body mass index (weight in kg/(height in m)^2)\n",
        "\n",
        "DiabetesPedigreeFunction : Diabetes pedigree function\n",
        "\n",
        "Age : Age (years)\n",
        "\n",
        "Outcome : Class variable (0 or 1) 268 of 768 are 1, the others are 0\n",
        "\n"
      ],
      "metadata": {
        "id": "BhqA5E90LlSc"
      }
    },
    {
      "cell_type": "code",
      "source": [
        "data"
      ],
      "metadata": {
        "id": "RbwoLgwT62r2",
        "colab": {
          "base_uri": "https://localhost:8080/",
          "height": 424
        },
        "outputId": "6718c81f-eb8f-4f03-c048-535cdc1c3b31"
      },
      "execution_count": null,
      "outputs": [
        {
          "output_type": "execute_result",
          "data": {
            "text/plain": [
              "     Pregnancies  Glucose  BloodPressure  SkinThickness  Insulin   BMI  \\\n",
              "0              6      148             72             35        0  33.6   \n",
              "1              1       85             66             29        0  26.6   \n",
              "2              8      183             64              0        0  23.3   \n",
              "3              1       89             66             23       94  28.1   \n",
              "4              0      137             40             35      168  43.1   \n",
              "..           ...      ...            ...            ...      ...   ...   \n",
              "763           10      101             76             48      180  32.9   \n",
              "764            2      122             70             27        0  36.8   \n",
              "765            5      121             72             23      112  26.2   \n",
              "766            1      126             60              0        0  30.1   \n",
              "767            1       93             70             31        0  30.4   \n",
              "\n",
              "     DiabetesPedigreeFunction  Age  Outcome  \n",
              "0                       0.627   50        1  \n",
              "1                       0.351   31        0  \n",
              "2                       0.672   32        1  \n",
              "3                       0.167   21        0  \n",
              "4                       2.288   33        1  \n",
              "..                        ...  ...      ...  \n",
              "763                     0.171   63        0  \n",
              "764                     0.340   27        0  \n",
              "765                     0.245   30        0  \n",
              "766                     0.349   47        1  \n",
              "767                     0.315   23        0  \n",
              "\n",
              "[768 rows x 9 columns]"
            ],
            "text/html": [
              "\n",
              "  <div id=\"df-158903b9-f714-4945-9a7c-2cf4d2a83717\" class=\"colab-df-container\">\n",
              "    <div>\n",
              "<style scoped>\n",
              "    .dataframe tbody tr th:only-of-type {\n",
              "        vertical-align: middle;\n",
              "    }\n",
              "\n",
              "    .dataframe tbody tr th {\n",
              "        vertical-align: top;\n",
              "    }\n",
              "\n",
              "    .dataframe thead th {\n",
              "        text-align: right;\n",
              "    }\n",
              "</style>\n",
              "<table border=\"1\" class=\"dataframe\">\n",
              "  <thead>\n",
              "    <tr style=\"text-align: right;\">\n",
              "      <th></th>\n",
              "      <th>Pregnancies</th>\n",
              "      <th>Glucose</th>\n",
              "      <th>BloodPressure</th>\n",
              "      <th>SkinThickness</th>\n",
              "      <th>Insulin</th>\n",
              "      <th>BMI</th>\n",
              "      <th>DiabetesPedigreeFunction</th>\n",
              "      <th>Age</th>\n",
              "      <th>Outcome</th>\n",
              "    </tr>\n",
              "  </thead>\n",
              "  <tbody>\n",
              "    <tr>\n",
              "      <th>0</th>\n",
              "      <td>6</td>\n",
              "      <td>148</td>\n",
              "      <td>72</td>\n",
              "      <td>35</td>\n",
              "      <td>0</td>\n",
              "      <td>33.6</td>\n",
              "      <td>0.627</td>\n",
              "      <td>50</td>\n",
              "      <td>1</td>\n",
              "    </tr>\n",
              "    <tr>\n",
              "      <th>1</th>\n",
              "      <td>1</td>\n",
              "      <td>85</td>\n",
              "      <td>66</td>\n",
              "      <td>29</td>\n",
              "      <td>0</td>\n",
              "      <td>26.6</td>\n",
              "      <td>0.351</td>\n",
              "      <td>31</td>\n",
              "      <td>0</td>\n",
              "    </tr>\n",
              "    <tr>\n",
              "      <th>2</th>\n",
              "      <td>8</td>\n",
              "      <td>183</td>\n",
              "      <td>64</td>\n",
              "      <td>0</td>\n",
              "      <td>0</td>\n",
              "      <td>23.3</td>\n",
              "      <td>0.672</td>\n",
              "      <td>32</td>\n",
              "      <td>1</td>\n",
              "    </tr>\n",
              "    <tr>\n",
              "      <th>3</th>\n",
              "      <td>1</td>\n",
              "      <td>89</td>\n",
              "      <td>66</td>\n",
              "      <td>23</td>\n",
              "      <td>94</td>\n",
              "      <td>28.1</td>\n",
              "      <td>0.167</td>\n",
              "      <td>21</td>\n",
              "      <td>0</td>\n",
              "    </tr>\n",
              "    <tr>\n",
              "      <th>4</th>\n",
              "      <td>0</td>\n",
              "      <td>137</td>\n",
              "      <td>40</td>\n",
              "      <td>35</td>\n",
              "      <td>168</td>\n",
              "      <td>43.1</td>\n",
              "      <td>2.288</td>\n",
              "      <td>33</td>\n",
              "      <td>1</td>\n",
              "    </tr>\n",
              "    <tr>\n",
              "      <th>...</th>\n",
              "      <td>...</td>\n",
              "      <td>...</td>\n",
              "      <td>...</td>\n",
              "      <td>...</td>\n",
              "      <td>...</td>\n",
              "      <td>...</td>\n",
              "      <td>...</td>\n",
              "      <td>...</td>\n",
              "      <td>...</td>\n",
              "    </tr>\n",
              "    <tr>\n",
              "      <th>763</th>\n",
              "      <td>10</td>\n",
              "      <td>101</td>\n",
              "      <td>76</td>\n",
              "      <td>48</td>\n",
              "      <td>180</td>\n",
              "      <td>32.9</td>\n",
              "      <td>0.171</td>\n",
              "      <td>63</td>\n",
              "      <td>0</td>\n",
              "    </tr>\n",
              "    <tr>\n",
              "      <th>764</th>\n",
              "      <td>2</td>\n",
              "      <td>122</td>\n",
              "      <td>70</td>\n",
              "      <td>27</td>\n",
              "      <td>0</td>\n",
              "      <td>36.8</td>\n",
              "      <td>0.340</td>\n",
              "      <td>27</td>\n",
              "      <td>0</td>\n",
              "    </tr>\n",
              "    <tr>\n",
              "      <th>765</th>\n",
              "      <td>5</td>\n",
              "      <td>121</td>\n",
              "      <td>72</td>\n",
              "      <td>23</td>\n",
              "      <td>112</td>\n",
              "      <td>26.2</td>\n",
              "      <td>0.245</td>\n",
              "      <td>30</td>\n",
              "      <td>0</td>\n",
              "    </tr>\n",
              "    <tr>\n",
              "      <th>766</th>\n",
              "      <td>1</td>\n",
              "      <td>126</td>\n",
              "      <td>60</td>\n",
              "      <td>0</td>\n",
              "      <td>0</td>\n",
              "      <td>30.1</td>\n",
              "      <td>0.349</td>\n",
              "      <td>47</td>\n",
              "      <td>1</td>\n",
              "    </tr>\n",
              "    <tr>\n",
              "      <th>767</th>\n",
              "      <td>1</td>\n",
              "      <td>93</td>\n",
              "      <td>70</td>\n",
              "      <td>31</td>\n",
              "      <td>0</td>\n",
              "      <td>30.4</td>\n",
              "      <td>0.315</td>\n",
              "      <td>23</td>\n",
              "      <td>0</td>\n",
              "    </tr>\n",
              "  </tbody>\n",
              "</table>\n",
              "<p>768 rows × 9 columns</p>\n",
              "</div>\n",
              "    <div class=\"colab-df-buttons\">\n",
              "\n",
              "  <div class=\"colab-df-container\">\n",
              "    <button class=\"colab-df-convert\" onclick=\"convertToInteractive('df-158903b9-f714-4945-9a7c-2cf4d2a83717')\"\n",
              "            title=\"Convert this dataframe to an interactive table.\"\n",
              "            style=\"display:none;\">\n",
              "\n",
              "  <svg xmlns=\"http://www.w3.org/2000/svg\" height=\"24px\" viewBox=\"0 -960 960 960\">\n",
              "    <path d=\"M120-120v-720h720v720H120Zm60-500h600v-160H180v160Zm220 220h160v-160H400v160Zm0 220h160v-160H400v160ZM180-400h160v-160H180v160Zm440 0h160v-160H620v160ZM180-180h160v-160H180v160Zm440 0h160v-160H620v160Z\"/>\n",
              "  </svg>\n",
              "    </button>\n",
              "\n",
              "  <style>\n",
              "    .colab-df-container {\n",
              "      display:flex;\n",
              "      gap: 12px;\n",
              "    }\n",
              "\n",
              "    .colab-df-convert {\n",
              "      background-color: #E8F0FE;\n",
              "      border: none;\n",
              "      border-radius: 50%;\n",
              "      cursor: pointer;\n",
              "      display: none;\n",
              "      fill: #1967D2;\n",
              "      height: 32px;\n",
              "      padding: 0 0 0 0;\n",
              "      width: 32px;\n",
              "    }\n",
              "\n",
              "    .colab-df-convert:hover {\n",
              "      background-color: #E2EBFA;\n",
              "      box-shadow: 0px 1px 2px rgba(60, 64, 67, 0.3), 0px 1px 3px 1px rgba(60, 64, 67, 0.15);\n",
              "      fill: #174EA6;\n",
              "    }\n",
              "\n",
              "    .colab-df-buttons div {\n",
              "      margin-bottom: 4px;\n",
              "    }\n",
              "\n",
              "    [theme=dark] .colab-df-convert {\n",
              "      background-color: #3B4455;\n",
              "      fill: #D2E3FC;\n",
              "    }\n",
              "\n",
              "    [theme=dark] .colab-df-convert:hover {\n",
              "      background-color: #434B5C;\n",
              "      box-shadow: 0px 1px 3px 1px rgba(0, 0, 0, 0.15);\n",
              "      filter: drop-shadow(0px 1px 2px rgba(0, 0, 0, 0.3));\n",
              "      fill: #FFFFFF;\n",
              "    }\n",
              "  </style>\n",
              "\n",
              "    <script>\n",
              "      const buttonEl =\n",
              "        document.querySelector('#df-158903b9-f714-4945-9a7c-2cf4d2a83717 button.colab-df-convert');\n",
              "      buttonEl.style.display =\n",
              "        google.colab.kernel.accessAllowed ? 'block' : 'none';\n",
              "\n",
              "      async function convertToInteractive(key) {\n",
              "        const element = document.querySelector('#df-158903b9-f714-4945-9a7c-2cf4d2a83717');\n",
              "        const dataTable =\n",
              "          await google.colab.kernel.invokeFunction('convertToInteractive',\n",
              "                                                    [key], {});\n",
              "        if (!dataTable) return;\n",
              "\n",
              "        const docLinkHtml = 'Like what you see? Visit the ' +\n",
              "          '<a target=\"_blank\" href=https://colab.research.google.com/notebooks/data_table.ipynb>data table notebook</a>'\n",
              "          + ' to learn more about interactive tables.';\n",
              "        element.innerHTML = '';\n",
              "        dataTable['output_type'] = 'display_data';\n",
              "        await google.colab.output.renderOutput(dataTable, element);\n",
              "        const docLink = document.createElement('div');\n",
              "        docLink.innerHTML = docLinkHtml;\n",
              "        element.appendChild(docLink);\n",
              "      }\n",
              "    </script>\n",
              "  </div>\n",
              "\n",
              "\n",
              "<div id=\"df-099c6171-65ae-4911-b42d-08871ee23569\">\n",
              "  <button class=\"colab-df-quickchart\" onclick=\"quickchart('df-099c6171-65ae-4911-b42d-08871ee23569')\"\n",
              "            title=\"Suggest charts\"\n",
              "            style=\"display:none;\">\n",
              "\n",
              "<svg xmlns=\"http://www.w3.org/2000/svg\" height=\"24px\"viewBox=\"0 0 24 24\"\n",
              "     width=\"24px\">\n",
              "    <g>\n",
              "        <path d=\"M19 3H5c-1.1 0-2 .9-2 2v14c0 1.1.9 2 2 2h14c1.1 0 2-.9 2-2V5c0-1.1-.9-2-2-2zM9 17H7v-7h2v7zm4 0h-2V7h2v10zm4 0h-2v-4h2v4z\"/>\n",
              "    </g>\n",
              "</svg>\n",
              "  </button>\n",
              "\n",
              "<style>\n",
              "  .colab-df-quickchart {\n",
              "      --bg-color: #E8F0FE;\n",
              "      --fill-color: #1967D2;\n",
              "      --hover-bg-color: #E2EBFA;\n",
              "      --hover-fill-color: #174EA6;\n",
              "      --disabled-fill-color: #AAA;\n",
              "      --disabled-bg-color: #DDD;\n",
              "  }\n",
              "\n",
              "  [theme=dark] .colab-df-quickchart {\n",
              "      --bg-color: #3B4455;\n",
              "      --fill-color: #D2E3FC;\n",
              "      --hover-bg-color: #434B5C;\n",
              "      --hover-fill-color: #FFFFFF;\n",
              "      --disabled-bg-color: #3B4455;\n",
              "      --disabled-fill-color: #666;\n",
              "  }\n",
              "\n",
              "  .colab-df-quickchart {\n",
              "    background-color: var(--bg-color);\n",
              "    border: none;\n",
              "    border-radius: 50%;\n",
              "    cursor: pointer;\n",
              "    display: none;\n",
              "    fill: var(--fill-color);\n",
              "    height: 32px;\n",
              "    padding: 0;\n",
              "    width: 32px;\n",
              "  }\n",
              "\n",
              "  .colab-df-quickchart:hover {\n",
              "    background-color: var(--hover-bg-color);\n",
              "    box-shadow: 0 1px 2px rgba(60, 64, 67, 0.3), 0 1px 3px 1px rgba(60, 64, 67, 0.15);\n",
              "    fill: var(--button-hover-fill-color);\n",
              "  }\n",
              "\n",
              "  .colab-df-quickchart-complete:disabled,\n",
              "  .colab-df-quickchart-complete:disabled:hover {\n",
              "    background-color: var(--disabled-bg-color);\n",
              "    fill: var(--disabled-fill-color);\n",
              "    box-shadow: none;\n",
              "  }\n",
              "\n",
              "  .colab-df-spinner {\n",
              "    border: 2px solid var(--fill-color);\n",
              "    border-color: transparent;\n",
              "    border-bottom-color: var(--fill-color);\n",
              "    animation:\n",
              "      spin 1s steps(1) infinite;\n",
              "  }\n",
              "\n",
              "  @keyframes spin {\n",
              "    0% {\n",
              "      border-color: transparent;\n",
              "      border-bottom-color: var(--fill-color);\n",
              "      border-left-color: var(--fill-color);\n",
              "    }\n",
              "    20% {\n",
              "      border-color: transparent;\n",
              "      border-left-color: var(--fill-color);\n",
              "      border-top-color: var(--fill-color);\n",
              "    }\n",
              "    30% {\n",
              "      border-color: transparent;\n",
              "      border-left-color: var(--fill-color);\n",
              "      border-top-color: var(--fill-color);\n",
              "      border-right-color: var(--fill-color);\n",
              "    }\n",
              "    40% {\n",
              "      border-color: transparent;\n",
              "      border-right-color: var(--fill-color);\n",
              "      border-top-color: var(--fill-color);\n",
              "    }\n",
              "    60% {\n",
              "      border-color: transparent;\n",
              "      border-right-color: var(--fill-color);\n",
              "    }\n",
              "    80% {\n",
              "      border-color: transparent;\n",
              "      border-right-color: var(--fill-color);\n",
              "      border-bottom-color: var(--fill-color);\n",
              "    }\n",
              "    90% {\n",
              "      border-color: transparent;\n",
              "      border-bottom-color: var(--fill-color);\n",
              "    }\n",
              "  }\n",
              "</style>\n",
              "\n",
              "  <script>\n",
              "    async function quickchart(key) {\n",
              "      const quickchartButtonEl =\n",
              "        document.querySelector('#' + key + ' button');\n",
              "      quickchartButtonEl.disabled = true;  // To prevent multiple clicks.\n",
              "      quickchartButtonEl.classList.add('colab-df-spinner');\n",
              "      try {\n",
              "        const charts = await google.colab.kernel.invokeFunction(\n",
              "            'suggestCharts', [key], {});\n",
              "      } catch (error) {\n",
              "        console.error('Error during call to suggestCharts:', error);\n",
              "      }\n",
              "      quickchartButtonEl.classList.remove('colab-df-spinner');\n",
              "      quickchartButtonEl.classList.add('colab-df-quickchart-complete');\n",
              "    }\n",
              "    (() => {\n",
              "      let quickchartButtonEl =\n",
              "        document.querySelector('#df-099c6171-65ae-4911-b42d-08871ee23569 button');\n",
              "      quickchartButtonEl.style.display =\n",
              "        google.colab.kernel.accessAllowed ? 'block' : 'none';\n",
              "    })();\n",
              "  </script>\n",
              "</div>\n",
              "    </div>\n",
              "  </div>\n"
            ],
            "application/vnd.google.colaboratory.intrinsic+json": {
              "type": "dataframe",
              "variable_name": "data",
              "summary": "{\n  \"name\": \"data\",\n  \"rows\": 768,\n  \"fields\": [\n    {\n      \"column\": \"Pregnancies\",\n      \"properties\": {\n        \"dtype\": \"number\",\n        \"std\": 3,\n        \"min\": 0,\n        \"max\": 17,\n        \"num_unique_values\": 17,\n        \"samples\": [\n          6,\n          1,\n          3\n        ],\n        \"semantic_type\": \"\",\n        \"description\": \"\"\n      }\n    },\n    {\n      \"column\": \"Glucose\",\n      \"properties\": {\n        \"dtype\": \"number\",\n        \"std\": 31,\n        \"min\": 0,\n        \"max\": 199,\n        \"num_unique_values\": 136,\n        \"samples\": [\n          151,\n          101,\n          112\n        ],\n        \"semantic_type\": \"\",\n        \"description\": \"\"\n      }\n    },\n    {\n      \"column\": \"BloodPressure\",\n      \"properties\": {\n        \"dtype\": \"number\",\n        \"std\": 19,\n        \"min\": 0,\n        \"max\": 122,\n        \"num_unique_values\": 47,\n        \"samples\": [\n          86,\n          46,\n          85\n        ],\n        \"semantic_type\": \"\",\n        \"description\": \"\"\n      }\n    },\n    {\n      \"column\": \"SkinThickness\",\n      \"properties\": {\n        \"dtype\": \"number\",\n        \"std\": 15,\n        \"min\": 0,\n        \"max\": 99,\n        \"num_unique_values\": 51,\n        \"samples\": [\n          7,\n          12,\n          48\n        ],\n        \"semantic_type\": \"\",\n        \"description\": \"\"\n      }\n    },\n    {\n      \"column\": \"Insulin\",\n      \"properties\": {\n        \"dtype\": \"number\",\n        \"std\": 115,\n        \"min\": 0,\n        \"max\": 846,\n        \"num_unique_values\": 186,\n        \"samples\": [\n          52,\n          41,\n          183\n        ],\n        \"semantic_type\": \"\",\n        \"description\": \"\"\n      }\n    },\n    {\n      \"column\": \"BMI\",\n      \"properties\": {\n        \"dtype\": \"number\",\n        \"std\": 7.884160320375446,\n        \"min\": 0.0,\n        \"max\": 67.1,\n        \"num_unique_values\": 248,\n        \"samples\": [\n          19.9,\n          31.0,\n          38.1\n        ],\n        \"semantic_type\": \"\",\n        \"description\": \"\"\n      }\n    },\n    {\n      \"column\": \"DiabetesPedigreeFunction\",\n      \"properties\": {\n        \"dtype\": \"number\",\n        \"std\": 0.3313285950127749,\n        \"min\": 0.078,\n        \"max\": 2.42,\n        \"num_unique_values\": 517,\n        \"samples\": [\n          1.731,\n          0.426,\n          0.138\n        ],\n        \"semantic_type\": \"\",\n        \"description\": \"\"\n      }\n    },\n    {\n      \"column\": \"Age\",\n      \"properties\": {\n        \"dtype\": \"number\",\n        \"std\": 11,\n        \"min\": 21,\n        \"max\": 81,\n        \"num_unique_values\": 52,\n        \"samples\": [\n          60,\n          47,\n          72\n        ],\n        \"semantic_type\": \"\",\n        \"description\": \"\"\n      }\n    },\n    {\n      \"column\": \"Outcome\",\n      \"properties\": {\n        \"dtype\": \"number\",\n        \"std\": 0,\n        \"min\": 0,\n        \"max\": 1,\n        \"num_unique_values\": 2,\n        \"samples\": [\n          0,\n          1\n        ],\n        \"semantic_type\": \"\",\n        \"description\": \"\"\n      }\n    }\n  ]\n}"
            }
          },
          "metadata": {},
          "execution_count": 4
        }
      ]
    },
    {
      "cell_type": "markdown",
      "source": [
        "**Make a 3x3 panel plot with the histograms of each of the nine columns.**"
      ],
      "metadata": {
        "id": "HGPG8-zz6-Hp"
      }
    },
    {
      "cell_type": "code",
      "source": [
        "fig, axs = plt.subplots(3, 3, figsize=(12, 12))\n",
        "\n",
        "axs = axs.flatten()\n",
        "\n",
        "# Plot histograms for each column\n",
        "for i, column in enumerate(data.columns):\n",
        "    axs[i].hist(data[column], bins=20, color='skyblue', edgecolor='black')\n",
        "    axs[i].set_title(column)\n",
        "\n",
        "plt.tight_layout()\n",
        "\n",
        "plt.show()"
      ],
      "metadata": {
        "id": "i0LciGX87zTa",
        "colab": {
          "base_uri": "https://localhost:8080/",
          "height": 1000
        },
        "outputId": "19f5a267-3cec-43bb-8a55-75a672b47369"
      },
      "execution_count": null,
      "outputs": [
        {
          "output_type": "display_data",
          "data": {
            "text/plain": [
              "<Figure size 1200x1200 with 9 Axes>"
            ],
            "image/png": "[encoded data removed]"
          },
          "metadata": {}
        }
      ]
    },
    {
      "cell_type": "markdown",
      "source": [
        "**Describe what information you can infer from each histogram in this plot.**"
      ],
      "metadata": {
        "id": "FF9-dGHV7zn0"
      }
    },
    {
      "cell_type": "markdown",
      "source": [
        "There are some attributes with many zeros. Pregencies seems skewed and BMI seems normally distributed. There is a need to remove zeros as possible."
      ],
      "metadata": {
        "id": "FkOZQZqT8H0V"
      }
    },
    {
      "cell_type": "markdown",
      "source": [
        "**Remove rows for which the values of any of the columns are not physically possible (e.g., it is not possible to have a BMI of $0$).**"
      ],
      "metadata": {
        "id": "XpFakS2I8OgG"
      }
    },
    {
      "cell_type": "code",
      "source": [
        "# Remove rows with physically impossible values\n",
        "data = data[(data[\"BMI\"] != 0) & (data[\"Glucose\"] != 0) & (data[\"BloodPressure\"] != 0) &\n",
        "            (data[\"SkinThickness\"] != 0) & (data[\"Insulin\"] != 0)]\n",
        "\n",
        "# Reset index after removing rows\n",
        "data.reset_index(drop=True, inplace=True)\n",
        "\n",
        "data"
      ],
      "metadata": {
        "id": "xvEnjzZ08nx6",
        "colab": {
          "base_uri": "https://localhost:8080/",
          "height": 424
        },
        "outputId": "5769a37f-5eb5-49aa-8d27-d0bd7e834b36"
      },
      "execution_count": null,
      "outputs": [
        {
          "output_type": "execute_result",
          "data": {
            "text/plain": [
              "     Pregnancies  Glucose  BloodPressure  SkinThickness  Insulin   BMI  \\\n",
              "0              1       89             66             23       94  28.1   \n",
              "1              0      137             40             35      168  43.1   \n",
              "2              3       78             50             32       88  31.0   \n",
              "3              2      197             70             45      543  30.5   \n",
              "4              1      189             60             23      846  30.1   \n",
              "..           ...      ...            ...            ...      ...   ...   \n",
              "387            0      181             88             44      510  43.3   \n",
              "388            1      128             88             39      110  36.5   \n",
              "389            2       88             58             26       16  28.4   \n",
              "390           10      101             76             48      180  32.9   \n",
              "391            5      121             72             23      112  26.2   \n",
              "\n",
              "     DiabetesPedigreeFunction  Age  Outcome  \n",
              "0                       0.167   21        0  \n",
              "1                       2.288   33        1  \n",
              "2                       0.248   26        1  \n",
              "3                       0.158   53        1  \n",
              "4                       0.398   59        1  \n",
              "..                        ...  ...      ...  \n",
              "387                     0.222   26        1  \n",
              "388                     1.057   37        1  \n",
              "389                     0.766   22        0  \n",
              "390                     0.171   63        0  \n",
              "391                     0.245   30        0  \n",
              "\n",
              "[392 rows x 9 columns]"
            ],
            "text/html": [
              "\n",
              "  <div id=\"df-a9e10783-3e9b-46a9-8c96-b24a6010d016\" class=\"colab-df-container\">\n",
              "    <div>\n",
              "<style scoped>\n",
              "    .dataframe tbody tr th:only-of-type {\n",
              "        vertical-align: middle;\n",
              "    }\n",
              "\n",
              "    .dataframe tbody tr th {\n",
              "        vertical-align: top;\n",
              "    }\n",
              "\n",
              "    .dataframe thead th {\n",
              "        text-align: right;\n",
              "    }\n",
              "</style>\n",
              "<table border=\"1\" class=\"dataframe\">\n",
              "  <thead>\n",
              "    <tr style=\"text-align: right;\">\n",
              "      <th></th>\n",
              "      <th>Pregnancies</th>\n",
              "      <th>Glucose</th>\n",
              "      <th>BloodPressure</th>\n",
              "      <th>SkinThickness</th>\n",
              "      <th>Insulin</th>\n",
              "      <th>BMI</th>\n",
              "      <th>DiabetesPedigreeFunction</th>\n",
              "      <th>Age</th>\n",
              "      <th>Outcome</th>\n",
              "    </tr>\n",
              "  </thead>\n",
              "  <tbody>\n",
              "    <tr>\n",
              "      <th>0</th>\n",
              "      <td>1</td>\n",
              "      <td>89</td>\n",
              "      <td>66</td>\n",
              "      <td>23</td>\n",
              "      <td>94</td>\n",
              "      <td>28.1</td>\n",
              "      <td>0.167</td>\n",
              "      <td>21</td>\n",
              "      <td>0</td>\n",
              "    </tr>\n",
              "    <tr>\n",
              "      <th>1</th>\n",
              "      <td>0</td>\n",
              "      <td>137</td>\n",
              "      <td>40</td>\n",
              "      <td>35</td>\n",
              "      <td>168</td>\n",
              "      <td>43.1</td>\n",
              "      <td>2.288</td>\n",
              "      <td>33</td>\n",
              "      <td>1</td>\n",
              "    </tr>\n",
              "    <tr>\n",
              "      <th>2</th>\n",
              "      <td>3</td>\n",
              "      <td>78</td>\n",
              "      <td>50</td>\n",
              "      <td>32</td>\n",
              "      <td>88</td>\n",
              "      <td>31.0</td>\n",
              "      <td>0.248</td>\n",
              "      <td>26</td>\n",
              "      <td>1</td>\n",
              "    </tr>\n",
              "    <tr>\n",
              "      <th>3</th>\n",
              "      <td>2</td>\n",
              "      <td>197</td>\n",
              "      <td>70</td>\n",
              "      <td>45</td>\n",
              "      <td>543</td>\n",
              "      <td>30.5</td>\n",
              "      <td>0.158</td>\n",
              "      <td>53</td>\n",
              "      <td>1</td>\n",
              "    </tr>\n",
              "    <tr>\n",
              "      <th>4</th>\n",
              "      <td>1</td>\n",
              "      <td>189</td>\n",
              "      <td>60</td>\n",
              "      <td>23</td>\n",
              "      <td>846</td>\n",
              "      <td>30.1</td>\n",
              "      <td>0.398</td>\n",
              "      <td>59</td>\n",
              "      <td>1</td>\n",
              "    </tr>\n",
              "    <tr>\n",
              "      <th>...</th>\n",
              "      <td>...</td>\n",
              "      <td>...</td>\n",
              "      <td>...</td>\n",
              "      <td>...</td>\n",
              "      <td>...</td>\n",
              "      <td>...</td>\n",
              "      <td>...</td>\n",
              "      <td>...</td>\n",
              "      <td>...</td>\n",
              "    </tr>\n",
              "    <tr>\n",
              "      <th>387</th>\n",
              "      <td>0</td>\n",
              "      <td>181</td>\n",
              "      <td>88</td>\n",
              "      <td>44</td>\n",
              "      <td>510</td>\n",
              "      <td>43.3</td>\n",
              "      <td>0.222</td>\n",
              "      <td>26</td>\n",
              "      <td>1</td>\n",
              "    </tr>\n",
              "    <tr>\n",
              "      <th>388</th>\n",
              "      <td>1</td>\n",
              "      <td>128</td>\n",
              "      <td>88</td>\n",
              "      <td>39</td>\n",
              "      <td>110</td>\n",
              "      <td>36.5</td>\n",
              "      <td>1.057</td>\n",
              "      <td>37</td>\n",
              "      <td>1</td>\n",
              "    </tr>\n",
              "    <tr>\n",
              "      <th>389</th>\n",
              "      <td>2</td>\n",
              "      <td>88</td>\n",
              "      <td>58</td>\n",
              "      <td>26</td>\n",
              "      <td>16</td>\n",
              "      <td>28.4</td>\n",
              "      <td>0.766</td>\n",
              "      <td>22</td>\n",
              "      <td>0</td>\n",
              "    </tr>\n",
              "    <tr>\n",
              "      <th>390</th>\n",
              "      <td>10</td>\n",
              "      <td>101</td>\n",
              "      <td>76</td>\n",
              "      <td>48</td>\n",
              "      <td>180</td>\n",
              "      <td>32.9</td>\n",
              "      <td>0.171</td>\n",
              "      <td>63</td>\n",
              "      <td>0</td>\n",
              "    </tr>\n",
              "    <tr>\n",
              "      <th>391</th>\n",
              "      <td>5</td>\n",
              "      <td>121</td>\n",
              "      <td>72</td>\n",
              "      <td>23</td>\n",
              "      <td>112</td>\n",
              "      <td>26.2</td>\n",
              "      <td>0.245</td>\n",
              "      <td>30</td>\n",
              "      <td>0</td>\n",
              "    </tr>\n",
              "  </tbody>\n",
              "</table>\n",
              "<p>392 rows × 9 columns</p>\n",
              "</div>\n",
              "    <div class=\"colab-df-buttons\">\n",
              "\n",
              "  <div class=\"colab-df-container\">\n",
              "    <button class=\"colab-df-convert\" onclick=\"convertToInteractive('df-a9e10783-3e9b-46a9-8c96-b24a6010d016')\"\n",
              "            title=\"Convert this dataframe to an interactive table.\"\n",
              "            style=\"display:none;\">\n",
              "\n",
              "  <svg xmlns=\"http://www.w3.org/2000/svg\" height=\"24px\" viewBox=\"0 -960 960 960\">\n",
              "    <path d=\"M120-120v-720h720v720H120Zm60-500h600v-160H180v160Zm220 220h160v-160H400v160Zm0 220h160v-160H400v160ZM180-400h160v-160H180v160Zm440 0h160v-160H620v160ZM180-180h160v-160H180v160Zm440 0h160v-160H620v160Z\"/>\n",
              "  </svg>\n",
              "    </button>\n",
              "\n",
              "  <style>\n",
              "    .colab-df-container {\n",
              "      display:flex;\n",
              "      gap: 12px;\n",
              "    }\n",
              "\n",
              "    .colab-df-convert {\n",
              "      background-color: #E8F0FE;\n",
              "      border: none;\n",
              "      border-radius: 50%;\n",
              "      cursor: pointer;\n",
              "      display: none;\n",
              "      fill: #1967D2;\n",
              "      height: 32px;\n",
              "      padding: 0 0 0 0;\n",
              "      width: 32px;\n",
              "    }\n",
              "\n",
              "    .colab-df-convert:hover {\n",
              "      background-color: #E2EBFA;\n",
              "      box-shadow: 0px 1px 2px rgba(60, 64, 67, 0.3), 0px 1px 3px 1px rgba(60, 64, 67, 0.15);\n",
              "      fill: #174EA6;\n",
              "    }\n",
              "\n",
              "    .colab-df-buttons div {\n",
              "      margin-bottom: 4px;\n",
              "    }\n",
              "\n",
              "    [theme=dark] .colab-df-convert {\n",
              "      background-color: #3B4455;\n",
              "      fill: #D2E3FC;\n",
              "    }\n",
              "\n",
              "    [theme=dark] .colab-df-convert:hover {\n",
              "      background-color: #434B5C;\n",
              "      box-shadow: 0px 1px 3px 1px rgba(0, 0, 0, 0.15);\n",
              "      filter: drop-shadow(0px 1px 2px rgba(0, 0, 0, 0.3));\n",
              "      fill: #FFFFFF;\n",
              "    }\n",
              "  </style>\n",
              "\n",
              "    <script>\n",
              "      const buttonEl =\n",
              "        document.querySelector('#df-a9e10783-3e9b-46a9-8c96-b24a6010d016 button.colab-df-convert');\n",
              "      buttonEl.style.display =\n",
              "        google.colab.kernel.accessAllowed ? 'block' : 'none';\n",
              "\n",
              "      async function convertToInteractive(key) {\n",
              "        const element = document.querySelector('#df-a9e10783-3e9b-46a9-8c96-b24a6010d016');\n",
              "        const dataTable =\n",
              "          await google.colab.kernel.invokeFunction('convertToInteractive',\n",
              "                                                    [key], {});\n",
              "        if (!dataTable) return;\n",
              "\n",
              "        const docLinkHtml = 'Like what you see? Visit the ' +\n",
              "          '<a target=\"_blank\" href=https://colab.research.google.com/notebooks/data_table.ipynb>data table notebook</a>'\n",
              "          + ' to learn more about interactive tables.';\n",
              "        element.innerHTML = '';\n",
              "        dataTable['output_type'] = 'display_data';\n",
              "        await google.colab.output.renderOutput(dataTable, element);\n",
              "        const docLink = document.createElement('div');\n",
              "        docLink.innerHTML = docLinkHtml;\n",
              "        element.appendChild(docLink);\n",
              "      }\n",
              "    </script>\n",
              "  </div>\n",
              "\n",
              "\n",
              "<div id=\"df-04e589d9-178b-4a84-a415-b02934a3bae2\">\n",
              "  <button class=\"colab-df-quickchart\" onclick=\"quickchart('df-04e589d9-178b-4a84-a415-b02934a3bae2')\"\n",
              "            title=\"Suggest charts\"\n",
              "            style=\"display:none;\">\n",
              "\n",
              "<svg xmlns=\"http://www.w3.org/2000/svg\" height=\"24px\"viewBox=\"0 0 24 24\"\n",
              "     width=\"24px\">\n",
              "    <g>\n",
              "        <path d=\"M19 3H5c-1.1 0-2 .9-2 2v14c0 1.1.9 2 2 2h14c1.1 0 2-.9 2-2V5c0-1.1-.9-2-2-2zM9 17H7v-7h2v7zm4 0h-2V7h2v10zm4 0h-2v-4h2v4z\"/>\n",
              "    </g>\n",
              "</svg>\n",
              "  </button>\n",
              "\n",
              "<style>\n",
              "  .colab-df-quickchart {\n",
              "      --bg-color: #E8F0FE;\n",
              "      --fill-color: #1967D2;\n",
              "      --hover-bg-color: #E2EBFA;\n",
              "      --hover-fill-color: #174EA6;\n",
              "      --disabled-fill-color: #AAA;\n",
              "      --disabled-bg-color: #DDD;\n",
              "  }\n",
              "\n",
              "  [theme=dark] .colab-df-quickchart {\n",
              "      --bg-color: #3B4455;\n",
              "      --fill-color: #D2E3FC;\n",
              "      --hover-bg-color: #434B5C;\n",
              "      --hover-fill-color: #FFFFFF;\n",
              "      --disabled-bg-color: #3B4455;\n",
              "      --disabled-fill-color: #666;\n",
              "  }\n",
              "\n",
              "  .colab-df-quickchart {\n",
              "    background-color: var(--bg-color);\n",
              "    border: none;\n",
              "    border-radius: 50%;\n",
              "    cursor: pointer;\n",
              "    display: none;\n",
              "    fill: var(--fill-color);\n",
              "    height: 32px;\n",
              "    padding: 0;\n",
              "    width: 32px;\n",
              "  }\n",
              "\n",
              "  .colab-df-quickchart:hover {\n",
              "    background-color: var(--hover-bg-color);\n",
              "    box-shadow: 0 1px 2px rgba(60, 64, 67, 0.3), 0 1px 3px 1px rgba(60, 64, 67, 0.15);\n",
              "    fill: var(--button-hover-fill-color);\n",
              "  }\n",
              "\n",
              "  .colab-df-quickchart-complete:disabled,\n",
              "  .colab-df-quickchart-complete:disabled:hover {\n",
              "    background-color: var(--disabled-bg-color);\n",
              "    fill: var(--disabled-fill-color);\n",
              "    box-shadow: none;\n",
              "  }\n",
              "\n",
              "  .colab-df-spinner {\n",
              "    border: 2px solid var(--fill-color);\n",
              "    border-color: transparent;\n",
              "    border-bottom-color: var(--fill-color);\n",
              "    animation:\n",
              "      spin 1s steps(1) infinite;\n",
              "  }\n",
              "\n",
              "  @keyframes spin {\n",
              "    0% {\n",
              "      border-color: transparent;\n",
              "      border-bottom-color: var(--fill-color);\n",
              "      border-left-color: var(--fill-color);\n",
              "    }\n",
              "    20% {\n",
              "      border-color: transparent;\n",
              "      border-left-color: var(--fill-color);\n",
              "      border-top-color: var(--fill-color);\n",
              "    }\n",
              "    30% {\n",
              "      border-color: transparent;\n",
              "      border-left-color: var(--fill-color);\n",
              "      border-top-color: var(--fill-color);\n",
              "      border-right-color: var(--fill-color);\n",
              "    }\n",
              "    40% {\n",
              "      border-color: transparent;\n",
              "      border-right-color: var(--fill-color);\n",
              "      border-top-color: var(--fill-color);\n",
              "    }\n",
              "    60% {\n",
              "      border-color: transparent;\n",
              "      border-right-color: var(--fill-color);\n",
              "    }\n",
              "    80% {\n",
              "      border-color: transparent;\n",
              "      border-right-color: var(--fill-color);\n",
              "      border-bottom-color: var(--fill-color);\n",
              "    }\n",
              "    90% {\n",
              "      border-color: transparent;\n",
              "      border-bottom-color: var(--fill-color);\n",
              "    }\n",
              "  }\n",
              "</style>\n",
              "\n",
              "  <script>\n",
              "    async function quickchart(key) {\n",
              "      const quickchartButtonEl =\n",
              "        document.querySelector('#' + key + ' button');\n",
              "      quickchartButtonEl.disabled = true;  // To prevent multiple clicks.\n",
              "      quickchartButtonEl.classList.add('colab-df-spinner');\n",
              "      try {\n",
              "        const charts = await google.colab.kernel.invokeFunction(\n",
              "            'suggestCharts', [key], {});\n",
              "      } catch (error) {\n",
              "        console.error('Error during call to suggestCharts:', error);\n",
              "      }\n",
              "      quickchartButtonEl.classList.remove('colab-df-spinner');\n",
              "      quickchartButtonEl.classList.add('colab-df-quickchart-complete');\n",
              "    }\n",
              "    (() => {\n",
              "      let quickchartButtonEl =\n",
              "        document.querySelector('#df-04e589d9-178b-4a84-a415-b02934a3bae2 button');\n",
              "      quickchartButtonEl.style.display =\n",
              "        google.colab.kernel.accessAllowed ? 'block' : 'none';\n",
              "    })();\n",
              "  </script>\n",
              "</div>\n",
              "    </div>\n",
              "  </div>\n"
            ],
            "application/vnd.google.colaboratory.intrinsic+json": {
              "type": "dataframe",
              "variable_name": "data",
              "summary": "{\n  \"name\": \"data\",\n  \"rows\": 392,\n  \"fields\": [\n    {\n      \"column\": \"Pregnancies\",\n      \"properties\": {\n        \"dtype\": \"number\",\n        \"std\": 3,\n        \"min\": 0,\n        \"max\": 17,\n        \"num_unique_values\": 17,\n        \"samples\": [\n          1,\n          0,\n          11\n        ],\n        \"semantic_type\": \"\",\n        \"description\": \"\"\n      }\n    },\n    {\n      \"column\": \"Glucose\",\n      \"properties\": {\n        \"dtype\": \"number\",\n        \"std\": 30,\n        \"min\": 56,\n        \"max\": 198,\n        \"num_unique_values\": 117,\n        \"samples\": [\n          107,\n          189,\n          156\n        ],\n        \"semantic_type\": \"\",\n        \"description\": \"\"\n      }\n    },\n    {\n      \"column\": \"BloodPressure\",\n      \"properties\": {\n        \"dtype\": \"number\",\n        \"std\": 12,\n        \"min\": 24,\n        \"max\": 110,\n        \"num_unique_values\": 37,\n        \"samples\": [\n          68,\n          64,\n          60\n        ],\n        \"semantic_type\": \"\",\n        \"description\": \"\"\n      }\n    },\n    {\n      \"column\": \"SkinThickness\",\n      \"properties\": {\n        \"dtype\": \"number\",\n        \"std\": 10,\n        \"min\": 7,\n        \"max\": 63,\n        \"num_unique_values\": 48,\n        \"samples\": [\n          51,\n          52,\n          18\n        ],\n        \"semantic_type\": \"\",\n        \"description\": \"\"\n      }\n    },\n    {\n      \"column\": \"Insulin\",\n      \"properties\": {\n        \"dtype\": \"number\",\n        \"std\": 118,\n        \"min\": 14,\n        \"max\": 846,\n        \"num_unique_values\": 184,\n        \"samples\": [\n          240,\n          18,\n          77\n        ],\n        \"semantic_type\": \"\",\n        \"description\": \"\"\n      }\n    },\n    {\n      \"column\": \"BMI\",\n      \"properties\": {\n        \"dtype\": \"number\",\n        \"std\": 7.027659204401524,\n        \"min\": 18.2,\n        \"max\": 67.1,\n        \"num_unique_values\": 194,\n        \"samples\": [\n          42.4,\n          24.0,\n          23.8\n        ],\n        \"semantic_type\": \"\",\n        \"description\": \"\"\n      }\n    },\n    {\n      \"column\": \"DiabetesPedigreeFunction\",\n      \"properties\": {\n        \"dtype\": \"number\",\n        \"std\": 0.3454880427104995,\n        \"min\": 0.085,\n        \"max\": 2.42,\n        \"num_unique_values\": 331,\n        \"samples\": [\n          0.962,\n          0.598,\n          0.229\n        ],\n        \"semantic_type\": \"\",\n        \"description\": \"\"\n      }\n    },\n    {\n      \"column\": \"Age\",\n      \"properties\": {\n        \"dtype\": \"number\",\n        \"std\": 10,\n        \"min\": 21,\n        \"max\": 81,\n        \"num_unique_values\": 43,\n        \"samples\": [\n          49,\n          40,\n          37\n        ],\n        \"semantic_type\": \"\",\n        \"description\": \"\"\n      }\n    },\n    {\n      \"column\": \"Outcome\",\n      \"properties\": {\n        \"dtype\": \"number\",\n        \"std\": 0,\n        \"min\": 0,\n        \"max\": 1,\n        \"num_unique_values\": 2,\n        \"samples\": [\n          1,\n          0\n        ],\n        \"semantic_type\": \"\",\n        \"description\": \"\"\n      }\n    }\n  ]\n}"
            }
          },
          "metadata": {},
          "execution_count": 6
        }
      ]
    },
    {
      "cell_type": "markdown",
      "source": [
        "**Re-plot the 3x3 panel plot of histograms with this new subset of the data.**"
      ],
      "metadata": {
        "id": "nZa9TIt_8pIx"
      }
    },
    {
      "cell_type": "code",
      "source": [
        "fig, axs = plt.subplots(3, 3, figsize=(12, 12))\n",
        "\n",
        "axs = axs.flatten()\n",
        "\n",
        "# Plot histograms for each column\n",
        "for i, column in enumerate(data.columns):\n",
        "    axs[i].hist(data[column], bins=20, color='skyblue', edgecolor='black')\n",
        "    axs[i].set_title(column)\n",
        "\n",
        "plt.tight_layout()\n",
        "\n",
        "plt.show()"
      ],
      "metadata": {
        "id": "hfwj2FPH8uEN",
        "colab": {
          "base_uri": "https://localhost:8080/",
          "height": 1000
        },
        "outputId": "e91b437a-0c0d-4c24-a5ba-b35e0880916c"
      },
      "execution_count": null,
      "outputs": [
        {
          "output_type": "display_data",
          "data": {
            "text/plain": [
              "<Figure size 1200x1200 with 9 Axes>"
            ],
            "image/png": "[encoded data removed]"
          },
          "metadata": {}
        }
      ]
    },
    {
      "cell_type": "markdown",
      "source": [
        "## **Part 2: Fitting a Logistic Regression Model**"
      ],
      "metadata": {
        "id": "35KJBu4d8t8d"
      }
    },
    {
      "cell_type": "markdown",
      "source": [
        "First, let's run a logistic regression model on a single feature."
      ],
      "metadata": {
        "id": "AYxqCFbGKWBO"
      }
    },
    {
      "cell_type": "markdown",
      "source": [
        "**Create features and targets objects from the subset of the data that you created above where the features are only blood pressure and the target is the outcome.**"
      ],
      "metadata": {
        "id": "7bVfHNxiJ-54"
      }
    },
    {
      "cell_type": "code",
      "source": [
        "features = data[['BloodPressure']]\n",
        "target = data['Outcome']"
      ],
      "metadata": {
        "id": "PHwkN2QAKQnB"
      },
      "execution_count": null,
      "outputs": []
    },
    {
      "cell_type": "markdown",
      "source": [
        "**Instantiate and fit a logistic regression model to this feature and target using `sklearn`'s `LogisticRegression`.**"
      ],
      "metadata": {
        "id": "Xh0ZeHSqK1kO"
      }
    },
    {
      "cell_type": "code",
      "source": [
        "# Instantiate the logistic regression model\n",
        "logistic_model = LogisticRegression()\n",
        "\n",
        "# Fit the model to the features and target\n",
        "logistic_model.fit(features, target)\n"
      ],
      "metadata": {
        "id": "eR44-S05LBGJ",
        "colab": {
          "base_uri": "https://localhost:8080/",
          "height": 75
        },
        "outputId": "d081026b-2d18-4cfb-f06b-c4589f79d71d"
      },
      "execution_count": null,
      "outputs": [
        {
          "output_type": "execute_result",
          "data": {
            "text/plain": [
              "LogisticRegression()"
            ],
            "text/html": [
              "<style>#sk-container-id-1 {color: black;background-color: white;}#sk-container-id-1 pre{padding: 0;}#sk-container-id-1 div.sk-toggleable {background-color: white;}#sk-container-id-1 label.sk-toggleable__label {cursor: pointer;display: block;width: 100%;margin-bottom: 0;padding: 0.3em;box-sizing: border-box;text-align: center;}#sk-container-id-1 label.sk-toggleable__label-arrow:before {content: \"▸\";float: left;margin-right: 0.25em;color: #696969;}#sk-container-id-1 label.sk-toggleable__label-arrow:hover:before {color: black;}#sk-container-id-1 div.sk-estimator:hover label.sk-toggleable__label-arrow:before {color: black;}#sk-container-id-1 div.sk-toggleable__content {max-height: 0;max-width: 0;overflow: hidden;text-align: left;background-color: #f0f8ff;}#sk-container-id-1 div.sk-toggleable__content pre {margin: 0.2em;color: black;border-radius: 0.25em;background-color: #f0f8ff;}#sk-container-id-1 input.sk-toggleable__control:checked~div.sk-toggleable__content {max-height: 200px;max-width: 100%;overflow: auto;}#sk-container-id-1 input.sk-toggleable__control:checked~label.sk-toggleable__label-arrow:before {content: \"▾\";}#sk-container-id-1 div.sk-estimator input.sk-toggleable__control:checked~label.sk-toggleable__label {background-color: #d4ebff;}#sk-container-id-1 div.sk-label input.sk-toggleable__control:checked~label.sk-toggleable__label {background-color: #d4ebff;}#sk-container-id-1 input.sk-hidden--visually {border: 0;clip: rect(1px 1px 1px 1px);clip: rect(1px, 1px, 1px, 1px);height: 1px;margin: -1px;overflow: hidden;padding: 0;position: absolute;width: 1px;}#sk-container-id-1 div.sk-estimator {font-family: monospace;background-color: #f0f8ff;border: 1px dotted black;border-radius: 0.25em;box-sizing: border-box;margin-bottom: 0.5em;}#sk-container-id-1 div.sk-estimator:hover {background-color: #d4ebff;}#sk-container-id-1 div.sk-parallel-item::after {content: \"\";width: 100%;border-bottom: 1px solid gray;flex-grow: 1;}#sk-container-id-1 div.sk-label:hover label.sk-toggleable__label {background-color: #d4ebff;}#sk-container-id-1 div.sk-serial::before {content: \"\";position: absolute;border-left: 1px solid gray;box-sizing: border-box;top: 0;bottom: 0;left: 50%;z-index: 0;}#sk-container-id-1 div.sk-serial {display: flex;flex-direction: column;align-items: center;background-color: white;padding-right: 0.2em;padding-left: 0.2em;position: relative;}#sk-container-id-1 div.sk-item {position: relative;z-index: 1;}#sk-container-id-1 div.sk-parallel {display: flex;align-items: stretch;justify-content: center;background-color: white;position: relative;}#sk-container-id-1 div.sk-item::before, #sk-container-id-1 div.sk-parallel-item::before {content: \"\";position: absolute;border-left: 1px solid gray;box-sizing: border-box;top: 0;bottom: 0;left: 50%;z-index: -1;}#sk-container-id-1 div.sk-parallel-item {display: flex;flex-direction: column;z-index: 1;position: relative;background-color: white;}#sk-container-id-1 div.sk-parallel-item:first-child::after {align-self: flex-end;width: 50%;}#sk-container-id-1 div.sk-parallel-item:last-child::after {align-self: flex-start;width: 50%;}#sk-container-id-1 div.sk-parallel-item:only-child::after {width: 0;}#sk-container-id-1 div.sk-dashed-wrapped {border: 1px dashed gray;margin: 0 0.4em 0.5em 0.4em;box-sizing: border-box;padding-bottom: 0.4em;background-color: white;}#sk-container-id-1 div.sk-label label {font-family: monospace;font-weight: bold;display: inline-block;line-height: 1.2em;}#sk-container-id-1 div.sk-label-container {text-align: center;}#sk-container-id-1 div.sk-container {/* jupyter's `normalize.less` sets `[hidden] { display: none; }` but bootstrap.min.css set `[hidden] { display: none !important; }` so we also need the `!important` here to be able to override the default hidden behavior on the sphinx rendered scikit-learn.org. See: https://github.com/scikit-learn/scikit-learn/issues/21755 */display: inline-block !important;position: relative;}#sk-container-id-1 div.sk-text-repr-fallback {display: none;}</style><div id=\"sk-container-id-1\" class=\"sk-top-container\"><div class=\"sk-text-repr-fallback\"><pre>LogisticRegression()</pre><b>In a Jupyter environment, please rerun this cell to show the HTML representation or trust the notebook. <br />On GitHub, the HTML representation is unable to render, please try loading this page with nbviewer.org.</b></div><div class=\"sk-container\" hidden><div class=\"sk-item\"><div class=\"sk-estimator sk-toggleable\"><input class=\"sk-toggleable__control sk-hidden--visually\" id=\"sk-estimator-id-1\" type=\"checkbox\" checked><label for=\"sk-estimator-id-1\" class=\"sk-toggleable__label sk-toggleable__label-arrow\">LogisticRegression</label><div class=\"sk-toggleable__content\"><pre>LogisticRegression()</pre></div></div></div></div></div>"
            ]
          },
          "metadata": {},
          "execution_count": 9
        }
      ]
    },
    {
      "cell_type": "markdown",
      "source": [
        "<b>\n",
        "\n",
        "Use `plotly` to make a scatter plot of blood pressure vs outcome that contains\n",
        "\n",
        "- the raw data using black points with an alpha (transparency) value of $0.2$;\n",
        "- the logistic regression model predictions using blue points that are slightly smaller than the raw data points; and\n",
        "- the best fit probabilty curve (i.e., the logistic function) from the logistic regression model.\n",
        "\n",
        "</b>"
      ],
      "metadata": {
        "id": "Lk64zWmbLBem"
      }
    },
    {
      "cell_type": "code",
      "source": [
        "# Obtain predictions from the logistic regression model\n",
        "predictions = logistic_model.predict(features)\n",
        "probabilities = logistic_model.predict_proba(features)[:, 1]  # Probabilities of positive class\n",
        "\n",
        "# Create scatter plot\n",
        "fig = go.Figure()\n",
        "\n",
        "# Plot raw data\n",
        "fig.add_trace(go.Scatter(\n",
        "    x=features['BloodPressure'],\n",
        "    y=target,\n",
        "    mode='markers',\n",
        "    marker=dict(color='black', opacity=0.2),\n",
        "    name='Raw Data'\n",
        "))\n",
        "\n",
        "# Plot model predictions\n",
        "fig.add_trace(go.Scatter(\n",
        "    x=features['BloodPressure'],\n",
        "    y=predictions,\n",
        "    mode='markers',\n",
        "    marker=dict(color='blue', size=6, opacity=0.6),\n",
        "    name='Model Predictions'\n",
        "))\n",
        "\n",
        "# Sort the features and probabilities for smoother curve plotting\n",
        "sorted_indices = np.argsort(features['BloodPressure'])\n",
        "sorted_bp = features['BloodPressure'].iloc[sorted_indices]\n",
        "sorted_probs = probabilities[sorted_indices]\n",
        "\n",
        "# Plot logistic function curve\n",
        "fig.add_trace(go.Scatter(\n",
        "    x=sorted_bp,\n",
        "    y=sorted_probs,\n",
        "    mode='lines',\n",
        "    line=dict(color='red', width=2),\n",
        "    name='Logistic Function'\n",
        "))\n",
        "\n",
        "# Update layout\n",
        "fig.update_layout(\n",
        "    title='Blood Pressure vs. Outcome',\n",
        "    xaxis_title='Blood Pressure',\n",
        "    yaxis_title='Outcome',\n",
        ")\n",
        "\n",
        "# Show plot\n",
        "fig.show()\n",
        "\n"
      ],
      "metadata": {
        "id": "Mk6DNyiFLTYc",
        "colab": {
          "base_uri": "https://localhost:8080/",
          "height": 542
        },
        "outputId": "3d071594-d470-460d-f0ec-233a8d323bd0"
      },
      "execution_count": null,
      "outputs": [
        {
          "output_type": "display_data",
          "data": {
            "text/html": [
              "<html>\n",
              "<head><meta charset=\"utf-8\" /></head>\n",
              "<body>\n",
              "    <div>            <script src=\"https://cdnjs.cloudflare.com/ajax/libs/mathjax/2.7.5/MathJax.js?config=TeX-AMS-MML_SVG\"></script><script type=\"text/javascript\">if (window.MathJax && window.MathJax.Hub && window.MathJax.Hub.Config) {window.MathJax.Hub.Config({SVG: {font: \"STIX-Web\"}});}</script>                <script type=\"text/javascript\">window.PlotlyConfig = {MathJaxConfig: 'local'};</script>\n",
              "        <script charset=\"utf-8\" src=\"https://cdn.plot.ly/plotly-2.24.1.min.js\"></script>                <div id=\"46772098-1ab9-4684-bb86-488863185ea7\" class=\"plotly-graph-div\" style=\"height:525px; width:100%;\"></div>            <script type=\"text/javascript\">                                    window.PLOTLYENV=window.PLOTLYENV || {};                                    if (document.getElementById(\"46772098-1ab9-4684-bb86-488863185ea7\")) {                    Plotly.newPlot(                        \"46772098-1ab9-4684-bb86-488863185ea7\",                        [{\"marker\":{\"color\":\"black\",\"opacity\":0.2},\"mode\":\"markers\",\"name\":\"Raw Data\",\"x\":[66,40,50,70,60,72,84,30,70,88,94,70,66,82,76,58,60,72,64,110,80,50,66,90,66,68,88,64,58,66,85,66,64,86,78,74,68,70,80,78,82,72,48,50,90,72,56,58,58,85,72,62,76,54,76,76,74,30,70,58,88,70,64,68,60,70,60,72,52,62,64,74,86,82,52,56,74,72,74,80,74,90,70,60,64,72,110,64,68,98,76,80,70,84,62,64,60,70,72,76,64,65,82,70,62,68,60,60,66,78,70,80,80,80,68,84,70,50,76,90,70,80,62,50,76,68,74,62,78,70,64,62,76,88,74,84,86,56,72,88,62,78,48,62,70,84,78,58,82,76,68,68,68,68,70,74,50,68,80,66,60,90,72,64,86,70,58,60,76,78,70,74,88,46,62,62,50,74,76,64,74,54,86,102,82,64,58,52,82,82,60,100,72,60,62,70,54,82,68,66,64,72,58,56,84,48,68,72,84,74,60,84,64,88,68,64,78,78,64,94,82,74,74,66,64,78,72,80,64,74,64,68,54,68,84,74,72,70,56,52,64,78,80,76,74,70,58,82,68,62,78,65,70,72,70,74,90,64,90,60,50,62,54,70,88,90,70,80,64,74,66,60,66,56,80,92,74,72,90,78,90,76,68,82,68,62,64,70,66,68,60,54,72,62,72,66,58,60,86,44,44,76,86,78,52,72,82,24,38,78,78,62,82,62,54,58,88,74,62,86,70,88,78,82,76,76,74,86,72,74,74,50,84,54,60,74,70,52,58,80,82,106,80,80,58,78,68,106,100,58,56,64,74,74,82,70,68,90,74,88,76,76,46,64,64,78,58,50,78,60,66,68,86,78,78,88,56,86,60,80,44,58,88,84,74,70,78,88,88,58,76,72],\"y\":[0,1,1,1,1,1,1,0,1,0,1,1,0,0,1,0,0,1,0,1,0,0,0,1,0,1,0,0,0,0,0,1,0,0,0,0,0,1,0,0,0,0,0,0,1,0,0,0,0,1,1,1,0,1,0,1,0,1,0,0,1,1,1,0,0,0,0,0,0,0,0,0,1,0,0,0,0,1,0,0,1,0,1,0,0,1,1,0,1,1,1,1,0,1,1,1,1,0,0,1,0,1,1,1,1,0,1,0,0,0,0,0,1,0,0,1,0,1,0,0,0,0,1,0,1,0,0,0,0,0,0,0,0,0,0,0,1,0,0,0,1,1,1,0,1,0,1,1,0,0,1,0,1,1,0,1,0,0,0,0,0,1,0,1,1,0,0,0,0,1,0,0,0,0,0,0,1,0,1,1,0,0,0,1,1,0,0,0,1,0,0,0,0,0,0,0,0,1,0,0,0,0,0,0,1,0,1,0,0,0,1,1,1,0,0,0,1,1,1,0,1,0,0,0,0,1,0,0,1,0,0,0,0,0,1,0,0,0,0,0,0,0,1,0,0,1,0,0,1,0,0,0,1,0,1,0,0,0,1,0,0,0,0,1,1,0,0,0,0,0,0,0,0,0,0,1,1,1,0,0,1,1,0,0,0,0,0,0,1,0,0,0,0,0,0,1,0,0,0,0,0,1,1,0,0,0,1,0,0,1,1,0,0,0,0,1,1,1,0,0,0,0,0,0,0,1,0,0,0,0,1,1,1,0,0,0,0,1,0,0,1,1,1,0,0,0,0,0,0,0,0,0,0,0,1,0,1,1,1,0,0,0,0,1,0,0,0,1,1,0,0,1,0,0,1,1,0,0,0,1,0,0,0,0,0,1,0,1,1,0,0,0],\"type\":\"scatter\"},{\"marker\":{\"color\":\"blue\",\"opacity\":0.6,\"size\":6},\"mode\":\"markers\",\"name\":\"Model Predictions\",\"x\":[66,40,50,70,60,72,84,30,70,88,94,70,66,82,76,58,60,72,64,110,80,50,66,90,66,68,88,64,58,66,85,66,64,86,78,74,68,70,80,78,82,72,48,50,90,72,56,58,58,85,72,62,76,54,76,76,74,30,70,58,88,70,64,68,60,70,60,72,52,62,64,74,86,82,52,56,74,72,74,80,74,90,70,60,64,72,110,64,68,98,76,80,70,84,62,64,60,70,72,76,64,65,82,70,62,68,60,60,66,78,70,80,80,80,68,84,70,50,76,90,70,80,62,50,76,68,74,62,78,70,64,62,76,88,74,84,86,56,72,88,62,78,48,62,70,84,78,58,82,76,68,68,68,68,70,74,50,68,80,66,60,90,72,64,86,70,58,60,76,78,70,74,88,46,62,62,50,74,76,64,74,54,86,102,82,64,58,52,82,82,60,100,72,60,62,70,54,82,68,66,64,72,58,56,84,48,68,72,84,74,60,84,64,88,68,64,78,78,64,94,82,74,74,66,64,78,72,80,64,74,64,68,54,68,84,74,72,70,56,52,64,78,80,76,74,70,58,82,68,62,78,65,70,72,70,74,90,64,90,60,50,62,54,70,88,90,70,80,64,74,66,60,66,56,80,92,74,72,90,78,90,76,68,82,68,62,64,70,66,68,60,54,72,62,72,66,58,60,86,44,44,76,86,78,52,72,82,24,38,78,78,62,82,62,54,58,88,74,62,86,70,88,78,82,76,76,74,86,72,74,74,50,84,54,60,74,70,52,58,80,82,106,80,80,58,78,68,106,100,58,56,64,74,74,82,70,68,90,74,88,76,76,46,64,64,78,58,50,78,60,66,68,86,78,78,88,56,86,60,80,44,58,88,84,74,70,78,88,88,58,76,72],\"y\":[0,0,0,0,0,0,0,0,0,0,1,0,0,0,0,0,0,0,0,1,0,0,0,0,0,0,0,0,0,0,0,0,0,0,0,0,0,0,0,0,0,0,0,0,0,0,0,0,0,0,0,0,0,0,0,0,0,0,0,0,0,0,0,0,0,0,0,0,0,0,0,0,0,0,0,0,0,0,0,0,0,0,0,0,0,0,1,0,0,1,0,0,0,0,0,0,0,0,0,0,0,0,0,0,0,0,0,0,0,0,0,0,0,0,0,0,0,0,0,0,0,0,0,0,0,0,0,0,0,0,0,0,0,0,0,0,0,0,0,0,0,0,0,0,0,0,0,0,0,0,0,0,0,0,0,0,0,0,0,0,0,0,0,0,0,0,0,0,0,0,0,0,0,0,0,0,0,0,0,0,0,0,0,1,0,0,0,0,0,0,0,1,0,0,0,0,0,0,0,0,0,0,0,0,0,0,0,0,0,0,0,0,0,0,0,0,0,0,0,1,0,0,0,0,0,0,0,0,0,0,0,0,0,0,0,0,0,0,0,0,0,0,0,0,0,0,0,0,0,0,0,0,0,0,0,0,0,0,0,0,0,0,0,0,0,0,0,0,0,0,0,0,0,0,0,1,0,0,0,0,0,0,0,0,0,0,0,0,0,0,0,0,0,0,0,0,0,0,0,0,0,0,0,0,0,0,0,0,0,0,0,0,0,0,0,0,0,0,0,0,0,0,0,0,0,0,0,0,0,0,0,0,0,0,0,0,0,0,0,0,0,1,0,0,0,0,0,1,1,0,0,0,0,0,0,0,0,0,0,0,0,0,0,0,0,0,0,0,0,0,0,0,0,0,0,0,0,0,0,0,0,0,0,0,0,0,0,0,0,0,0,0],\"type\":\"scatter\"},{\"line\":{\"color\":\"red\",\"width\":2},\"mode\":\"lines\",\"name\":\"Logistic Function\",\"x\":[24,30,30,38,40,44,44,44,46,46,48,48,48,50,50,50,50,50,50,50,50,50,50,52,52,52,52,52,52,54,54,54,54,54,54,54,54,56,56,56,56,56,56,56,56,58,58,58,58,58,58,58,58,58,58,58,58,58,58,58,58,58,58,60,60,60,60,60,60,60,60,60,60,60,60,60,60,60,60,60,60,60,60,62,62,62,62,62,62,62,62,62,62,62,62,62,62,62,62,62,62,62,64,64,64,64,64,64,64,64,64,64,64,64,64,64,64,64,64,64,64,64,64,64,64,64,64,64,64,65,65,66,66,66,66,66,66,66,66,66,66,66,66,66,66,66,68,68,68,68,68,68,68,68,68,68,68,68,68,68,68,68,68,68,68,68,68,68,68,68,70,70,70,70,70,70,70,70,70,70,70,70,70,70,70,70,70,70,70,70,70,70,70,70,70,70,70,70,70,70,70,72,72,72,72,72,72,72,72,72,72,72,72,72,72,72,72,72,72,72,72,72,72,72,74,74,74,74,74,74,74,74,74,74,74,74,74,74,74,74,74,74,74,74,74,74,74,74,74,74,74,74,74,74,76,76,76,76,76,76,76,76,76,76,76,76,76,76,76,76,76,76,76,76,78,78,78,78,78,78,78,78,78,78,78,78,78,78,78,78,78,78,78,78,78,78,78,80,80,80,80,80,80,80,80,80,80,80,80,80,80,80,80,80,82,82,82,82,82,82,82,82,82,82,82,82,82,82,82,82,82,84,84,84,84,84,84,84,84,84,84,84,85,85,86,86,86,86,86,86,86,86,86,86,86,88,88,88,88,88,88,88,88,88,88,88,88,88,88,88,90,90,90,90,90,90,90,90,90,90,90,92,94,94,98,100,100,102,106,106,110,110],\"y\":[0.08785921073946111,0.10591873836137591,0.10591873836137591,0.13502832299488082,0.14328935997391548,0.16107138109474095,0.16107138109474095,0.16107138109474095,0.1706114595141605,0.1706114595141605,0.18059494903690126,0.18059494903690126,0.18059494903690126,0.19102807808937575,0.19102807808937575,0.19102807808937575,0.19102807808937575,0.19102807808937575,0.19102807808937575,0.19102807808937575,0.19102807808937575,0.19102807808937575,0.19102807808937575,0.2019154149495083,0.2019154149495083,0.2019154149495083,0.2019154149495083,0.2019154149495083,0.2019154149495083,0.21325968130198553,0.21325968130198553,0.21325968130198553,0.21325968130198553,0.21325968130198553,0.21325968130198553,0.21325968130198553,0.21325968130198553,0.22506156923551668,0.22506156923551668,0.22506156923551668,0.22506156923551668,0.22506156923551668,0.22506156923551668,0.22506156923551668,0.22506156923551668,0.23731956535804893,0.23731956535804893,0.23731956535804893,0.23731956535804893,0.23731956535804893,0.23731956535804893,0.23731956535804893,0.23731956535804893,0.23731956535804893,0.23731956535804893,0.23731956535804893,0.23731956535804893,0.23731956535804893,0.23731956535804893,0.23731956535804893,0.23731956535804893,0.23731956535804893,0.23731956535804893,0.2500297860385053,0.2500297860385053,0.2500297860385053,0.2500297860385053,0.2500297860385053,0.2500297860385053,0.2500297860385053,0.2500297860385053,0.2500297860385053,0.2500297860385053,0.2500297860385053,0.2500297860385053,0.2500297860385053,0.2500297860385053,0.2500297860385053,0.2500297860385053,0.2500297860385053,0.2500297860385053,0.2500297860385053,0.2500297860385053,0.26318582804121066,0.26318582804121066,0.26318582804121066,0.26318582804121066,0.26318582804121066,0.26318582804121066,0.26318582804121066,0.26318582804121066,0.26318582804121066,0.26318582804121066,0.26318582804121066,0.26318582804121066,0.26318582804121066,0.26318582804121066,0.26318582804121066,0.26318582804121066,0.26318582804121066,0.26318582804121066,0.26318582804121066,0.27677863897900995,0.27677863897900995,0.27677863897900995,0.27677863897900995,0.27677863897900995,0.27677863897900995,0.27677863897900995,0.27677863897900995,0.27677863897900995,0.27677863897900995,0.27677863897900995,0.27677863897900995,0.27677863897900995,0.27677863897900995,0.27677863897900995,0.27677863897900995,0.27677863897900995,0.27677863897900995,0.27677863897900995,0.27677863897900995,0.27677863897900995,0.27677863897900995,0.27677863897900995,0.27677863897900995,0.27677863897900995,0.27677863897900995,0.27677863897900995,0.28373525307684727,0.28373525307684727,0.29079641205109596,0.29079641205109596,0.29079641205109596,0.29079641205109596,0.29079641205109596,0.29079641205109596,0.29079641205109596,0.29079641205109596,0.29079641205109596,0.29079641205109596,0.29079641205109596,0.29079641205109596,0.29079641205109596,0.29079641205109596,0.29079641205109596,0.3052245094318367,0.3052245094318367,0.3052245094318367,0.3052245094318367,0.3052245094318367,0.3052245094318367,0.3052245094318367,0.3052245094318367,0.3052245094318367,0.3052245094318367,0.3052245094318367,0.3052245094318367,0.3052245094318367,0.3052245094318367,0.3052245094318367,0.3052245094318367,0.3052245094318367,0.3052245094318367,0.3052245094318367,0.3052245094318367,0.3052245094318367,0.3052245094318367,0.3052245094318367,0.3052245094318367,0.32004541842121514,0.32004541842121514,0.32004541842121514,0.32004541842121514,0.32004541842121514,0.32004541842121514,0.32004541842121514,0.32004541842121514,0.32004541842121514,0.32004541842121514,0.32004541842121514,0.32004541842121514,0.32004541842121514,0.32004541842121514,0.32004541842121514,0.32004541842121514,0.32004541842121514,0.32004541842121514,0.32004541842121514,0.32004541842121514,0.32004541842121514,0.32004541842121514,0.32004541842121514,0.32004541842121514,0.32004541842121514,0.32004541842121514,0.32004541842121514,0.32004541842121514,0.32004541842121514,0.32004541842121514,0.32004541842121514,0.335238744045038,0.335238744045038,0.335238744045038,0.335238744045038,0.335238744045038,0.335238744045038,0.335238744045038,0.335238744045038,0.335238744045038,0.335238744045038,0.335238744045038,0.335238744045038,0.335238744045038,0.335238744045038,0.335238744045038,0.335238744045038,0.335238744045038,0.335238744045038,0.335238744045038,0.335238744045038,0.335238744045038,0.335238744045038,0.335238744045038,0.3507812411999196,0.3507812411999196,0.3507812411999196,0.3507812411999196,0.3507812411999196,0.3507812411999196,0.3507812411999196,0.3507812411999196,0.3507812411999196,0.3507812411999196,0.3507812411999196,0.3507812411999196,0.3507812411999196,0.3507812411999196,0.3507812411999196,0.3507812411999196,0.3507812411999196,0.3507812411999196,0.3507812411999196,0.3507812411999196,0.3507812411999196,0.3507812411999196,0.3507812411999196,0.3507812411999196,0.3507812411999196,0.3507812411999196,0.3507812411999196,0.3507812411999196,0.3507812411999196,0.3507812411999196,0.3666468886785306,0.3666468886785306,0.3666468886785306,0.3666468886785306,0.3666468886785306,0.3666468886785306,0.3666468886785306,0.3666468886785306,0.3666468886785306,0.3666468886785306,0.3666468886785306,0.3666468886785306,0.3666468886785306,0.3666468886785306,0.3666468886785306,0.3666468886785306,0.3666468886785306,0.3666468886785306,0.3666468886785306,0.3666468886785306,0.382807006498232,0.382807006498232,0.382807006498232,0.382807006498232,0.382807006498232,0.382807006498232,0.382807006498232,0.382807006498232,0.382807006498232,0.382807006498232,0.382807006498232,0.382807006498232,0.382807006498232,0.382807006498232,0.382807006498232,0.382807006498232,0.382807006498232,0.382807006498232,0.382807006498232,0.382807006498232,0.382807006498232,0.382807006498232,0.382807006498232,0.3992304169140884,0.3992304169140884,0.3992304169140884,0.3992304169140884,0.3992304169140884,0.3992304169140884,0.3992304169140884,0.3992304169140884,0.3992304169140884,0.3992304169140884,0.3992304169140884,0.3992304169140884,0.3992304169140884,0.3992304169140884,0.3992304169140884,0.3992304169140884,0.3992304169140884,0.41588364835778013,0.41588364835778013,0.41588364835778013,0.41588364835778013,0.41588364835778013,0.41588364835778013,0.41588364835778013,0.41588364835778013,0.41588364835778013,0.41588364835778013,0.41588364835778013,0.41588364835778013,0.41588364835778013,0.41588364835778013,0.41588364835778013,0.41588364835778013,0.41588364835778013,0.43273118034787866,0.43273118034787866,0.43273118034787866,0.43273118034787866,0.43273118034787866,0.43273118034787866,0.43273118034787866,0.43273118034787866,0.43273118034787866,0.43273118034787866,0.43273118034787866,0.44121621751466916,0.44121621751466916,0.44973572621168284,0.44973572621168284,0.44973572621168284,0.44973572621168284,0.44973572621168284,0.44973572621168284,0.44973572621168284,0.44973572621168284,0.44973572621168284,0.44973572621168284,0.44973572621168284,0.466858549295919,0.466858549295919,0.466858549295919,0.466858549295919,0.466858549295919,0.466858549295919,0.466858549295919,0.466858549295919,0.466858549295919,0.466858549295919,0.466858549295919,0.466858549295919,0.466858549295919,0.466858549295919,0.466858549295919,0.4840598072759409,0.4840598072759409,0.4840598072759409,0.4840598072759409,0.4840598072759409,0.4840598072759409,0.4840598072759409,0.4840598072759409,0.4840598072759409,0.4840598072759409,0.4840598072759409,0.5012989182514697,0.5185349415868742,0.5185349415868742,0.5528344967765828,0.5698178353372962,0.5698178353372962,0.5866384420115427,0.6196451104844445,0.6196451104844445,0.6515815394846409,0.6515815394846409],\"type\":\"scatter\"}],                        {\"template\":{\"data\":{\"histogram2dcontour\":[{\"type\":\"histogram2dcontour\",\"colorbar\":{\"outlinewidth\":0,\"ticks\":\"\"},\"colorscale\":[[0.0,\"#0d0887\"],[0.1111111111111111,\"#46039f\"],[0.2222222222222222,\"#7201a8\"],[0.3333333333333333,\"#9c179e\"],[0.4444444444444444,\"#bd3786\"],[0.5555555555555556,\"#d8576b\"],[0.6666666666666666,\"#ed7953\"],[0.7777777777777778,\"#fb9f3a\"],[0.8888888888888888,\"#fdca26\"],[1.0,\"#f0f921\"]]}],\"choropleth\":[{\"type\":\"choropleth\",\"colorbar\":{\"outlinewidth\":0,\"ticks\":\"\"}}],\"histogram2d\":[{\"type\":\"histogram2d\",\"colorbar\":{\"outlinewidth\":0,\"ticks\":\"\"},\"colorscale\":[[0.0,\"#0d0887\"],[0.1111111111111111,\"#46039f\"],[0.2222222222222222,\"#7201a8\"],[0.3333333333333333,\"#9c179e\"],[0.4444444444444444,\"#bd3786\"],[0.5555555555555556,\"#d8576b\"],[0.6666666666666666,\"#ed7953\"],[0.7777777777777778,\"#fb9f3a\"],[0.8888888888888888,\"#fdca26\"],[1.0,\"#f0f921\"]]}],\"heatmap\":[{\"type\":\"heatmap\",\"colorbar\":{\"outlinewidth\":0,\"ticks\":\"\"},\"colorscale\":[[0.0,\"#0d0887\"],[0.1111111111111111,\"#46039f\"],[0.2222222222222222,\"#7201a8\"],[0.3333333333333333,\"#9c179e\"],[0.4444444444444444,\"#bd3786\"],[0.5555555555555556,\"#d8576b\"],[0.6666666666666666,\"#ed7953\"],[0.7777777777777778,\"#fb9f3a\"],[0.8888888888888888,\"#fdca26\"],[1.0,\"#f0f921\"]]}],\"heatmapgl\":[{\"type\":\"heatmapgl\",\"colorbar\":{\"outlinewidth\":0,\"ticks\":\"\"},\"colorscale\":[[0.0,\"#0d0887\"],[0.1111111111111111,\"#46039f\"],[0.2222222222222222,\"#7201a8\"],[0.3333333333333333,\"#9c179e\"],[0.4444444444444444,\"#bd3786\"],[0.5555555555555556,\"#d8576b\"],[0.6666666666666666,\"#ed7953\"],[0.7777777777777778,\"#fb9f3a\"],[0.8888888888888888,\"#fdca26\"],[1.0,\"#f0f921\"]]}],\"contourcarpet\":[{\"type\":\"contourcarpet\",\"colorbar\":{\"outlinewidth\":0,\"ticks\":\"\"}}],\"contour\":[{\"type\":\"contour\",\"colorbar\":{\"outlinewidth\":0,\"ticks\":\"\"},\"colorscale\":[[0.0,\"#0d0887\"],[0.1111111111111111,\"#46039f\"],[0.2222222222222222,\"#7201a8\"],[0.3333333333333333,\"#9c179e\"],[0.4444444444444444,\"#bd3786\"],[0.5555555555555556,\"#d8576b\"],[0.6666666666666666,\"#ed7953\"],[0.7777777777777778,\"#fb9f3a\"],[0.8888888888888888,\"#fdca26\"],[1.0,\"#f0f921\"]]}],\"surface\":[{\"type\":\"surface\",\"colorbar\":{\"outlinewidth\":0,\"ticks\":\"\"},\"colorscale\":[[0.0,\"#0d0887\"],[0.1111111111111111,\"#46039f\"],[0.2222222222222222,\"#7201a8\"],[0.3333333333333333,\"#9c179e\"],[0.4444444444444444,\"#bd3786\"],[0.5555555555555556,\"#d8576b\"],[0.6666666666666666,\"#ed7953\"],[0.7777777777777778,\"#fb9f3a\"],[0.8888888888888888,\"#fdca26\"],[1.0,\"#f0f921\"]]}],\"mesh3d\":[{\"type\":\"mesh3d\",\"colorbar\":{\"outlinewidth\":0,\"ticks\":\"\"}}],\"scatter\":[{\"fillpattern\":{\"fillmode\":\"overlay\",\"size\":10,\"solidity\":0.2},\"type\":\"scatter\"}],\"parcoords\":[{\"type\":\"parcoords\",\"line\":{\"colorbar\":{\"outlinewidth\":0,\"ticks\":\"\"}}}],\"scatterpolargl\":[{\"type\":\"scatterpolargl\",\"marker\":{\"colorbar\":{\"outlinewidth\":0,\"ticks\":\"\"}}}],\"bar\":[{\"error_x\":{\"color\":\"#2a3f5f\"},\"error_y\":{\"color\":\"#2a3f5f\"},\"marker\":{\"line\":{\"color\":\"#E5ECF6\",\"width\":0.5},\"pattern\":{\"fillmode\":\"overlay\",\"size\":10,\"solidity\":0.2}},\"type\":\"bar\"}],\"scattergeo\":[{\"type\":\"scattergeo\",\"marker\":{\"colorbar\":{\"outlinewidth\":0,\"ticks\":\"\"}}}],\"scatterpolar\":[{\"type\":\"scatterpolar\",\"marker\":{\"colorbar\":{\"outlinewidth\":0,\"ticks\":\"\"}}}],\"histogram\":[{\"marker\":{\"pattern\":{\"fillmode\":\"overlay\",\"size\":10,\"solidity\":0.2}},\"type\":\"histogram\"}],\"scattergl\":[{\"type\":\"scattergl\",\"marker\":{\"colorbar\":{\"outlinewidth\":0,\"ticks\":\"\"}}}],\"scatter3d\":[{\"type\":\"scatter3d\",\"line\":{\"colorbar\":{\"outlinewidth\":0,\"ticks\":\"\"}},\"marker\":{\"colorbar\":{\"outlinewidth\":0,\"ticks\":\"\"}}}],\"scattermapbox\":[{\"type\":\"scattermapbox\",\"marker\":{\"colorbar\":{\"outlinewidth\":0,\"ticks\":\"\"}}}],\"scatterternary\":[{\"type\":\"scatterternary\",\"marker\":{\"colorbar\":{\"outlinewidth\":0,\"ticks\":\"\"}}}],\"scattercarpet\":[{\"type\":\"scattercarpet\",\"marker\":{\"colorbar\":{\"outlinewidth\":0,\"ticks\":\"\"}}}],\"carpet\":[{\"aaxis\":{\"endlinecolor\":\"#2a3f5f\",\"gridcolor\":\"white\",\"linecolor\":\"white\",\"minorgridcolor\":\"white\",\"startlinecolor\":\"#2a3f5f\"},\"baxis\":{\"endlinecolor\":\"#2a3f5f\",\"gridcolor\":\"white\",\"linecolor\":\"white\",\"minorgridcolor\":\"white\",\"startlinecolor\":\"#2a3f5f\"},\"type\":\"carpet\"}],\"table\":[{\"cells\":{\"fill\":{\"color\":\"#EBF0F8\"},\"line\":{\"color\":\"white\"}},\"header\":{\"fill\":{\"color\":\"#C8D4E3\"},\"line\":{\"color\":\"white\"}},\"type\":\"table\"}],\"barpolar\":[{\"marker\":{\"line\":{\"color\":\"#E5ECF6\",\"width\":0.5},\"pattern\":{\"fillmode\":\"overlay\",\"size\":10,\"solidity\":0.2}},\"type\":\"barpolar\"}],\"pie\":[{\"automargin\":true,\"type\":\"pie\"}]},\"layout\":{\"autotypenumbers\":\"strict\",\"colorway\":[\"#636efa\",\"#EF553B\",\"#00cc96\",\"#ab63fa\",\"#FFA15A\",\"#19d3f3\",\"#FF6692\",\"#B6E880\",\"#FF97FF\",\"#FECB52\"],\"font\":{\"color\":\"#2a3f5f\"},\"hovermode\":\"closest\",\"hoverlabel\":{\"align\":\"left\"},\"paper_bgcolor\":\"white\",\"plot_bgcolor\":\"#E5ECF6\",\"polar\":{\"bgcolor\":\"#E5ECF6\",\"angularaxis\":{\"gridcolor\":\"white\",\"linecolor\":\"white\",\"ticks\":\"\"},\"radialaxis\":{\"gridcolor\":\"white\",\"linecolor\":\"white\",\"ticks\":\"\"}},\"ternary\":{\"bgcolor\":\"#E5ECF6\",\"aaxis\":{\"gridcolor\":\"white\",\"linecolor\":\"white\",\"ticks\":\"\"},\"baxis\":{\"gridcolor\":\"white\",\"linecolor\":\"white\",\"ticks\":\"\"},\"caxis\":{\"gridcolor\":\"white\",\"linecolor\":\"white\",\"ticks\":\"\"}},\"coloraxis\":{\"colorbar\":{\"outlinewidth\":0,\"ticks\":\"\"}},\"colorscale\":{\"sequential\":[[0.0,\"#0d0887\"],[0.1111111111111111,\"#46039f\"],[0.2222222222222222,\"#7201a8\"],[0.3333333333333333,\"#9c179e\"],[0.4444444444444444,\"#bd3786\"],[0.5555555555555556,\"#d8576b\"],[0.6666666666666666,\"#ed7953\"],[0.7777777777777778,\"#fb9f3a\"],[0.8888888888888888,\"#fdca26\"],[1.0,\"#f0f921\"]],\"sequentialminus\":[[0.0,\"#0d0887\"],[0.1111111111111111,\"#46039f\"],[0.2222222222222222,\"#7201a8\"],[0.3333333333333333,\"#9c179e\"],[0.4444444444444444,\"#bd3786\"],[0.5555555555555556,\"#d8576b\"],[0.6666666666666666,\"#ed7953\"],[0.7777777777777778,\"#fb9f3a\"],[0.8888888888888888,\"#fdca26\"],[1.0,\"#f0f921\"]],\"diverging\":[[0,\"#8e0152\"],[0.1,\"#c51b7d\"],[0.2,\"#de77ae\"],[0.3,\"#f1b6da\"],[0.4,\"#fde0ef\"],[0.5,\"#f7f7f7\"],[0.6,\"#e6f5d0\"],[0.7,\"#b8e186\"],[0.8,\"#7fbc41\"],[0.9,\"#4d9221\"],[1,\"#276419\"]]},\"xaxis\":{\"gridcolor\":\"white\",\"linecolor\":\"white\",\"ticks\":\"\",\"title\":{\"standoff\":15},\"zerolinecolor\":\"white\",\"automargin\":true,\"zerolinewidth\":2},\"yaxis\":{\"gridcolor\":\"white\",\"linecolor\":\"white\",\"ticks\":\"\",\"title\":{\"standoff\":15},\"zerolinecolor\":\"white\",\"automargin\":true,\"zerolinewidth\":2},\"scene\":{\"xaxis\":{\"backgroundcolor\":\"#E5ECF6\",\"gridcolor\":\"white\",\"linecolor\":\"white\",\"showbackground\":true,\"ticks\":\"\",\"zerolinecolor\":\"white\",\"gridwidth\":2},\"yaxis\":{\"backgroundcolor\":\"#E5ECF6\",\"gridcolor\":\"white\",\"linecolor\":\"white\",\"showbackground\":true,\"ticks\":\"\",\"zerolinecolor\":\"white\",\"gridwidth\":2},\"zaxis\":{\"backgroundcolor\":\"#E5ECF6\",\"gridcolor\":\"white\",\"linecolor\":\"white\",\"showbackground\":true,\"ticks\":\"\",\"zerolinecolor\":\"white\",\"gridwidth\":2}},\"shapedefaults\":{\"line\":{\"color\":\"#2a3f5f\"}},\"annotationdefaults\":{\"arrowcolor\":\"#2a3f5f\",\"arrowhead\":0,\"arrowwidth\":1},\"geo\":{\"bgcolor\":\"white\",\"landcolor\":\"#E5ECF6\",\"subunitcolor\":\"white\",\"showland\":true,\"showlakes\":true,\"lakecolor\":\"white\"},\"title\":{\"x\":0.05},\"mapbox\":{\"style\":\"light\"}}},\"title\":{\"text\":\"Blood Pressure vs. Outcome\"},\"xaxis\":{\"title\":{\"text\":\"Blood Pressure\"}},\"yaxis\":{\"title\":{\"text\":\"Outcome\"}}},                        {\"responsive\": true}                    ).then(function(){\n",
              "                            \n",
              "var gd = document.getElementById('46772098-1ab9-4684-bb86-488863185ea7');\n",
              "var x = new MutationObserver(function (mutations, observer) {{\n",
              "        var display = window.getComputedStyle(gd).display;\n",
              "        if (!display || display === 'none') {{\n",
              "            console.log([gd, 'removed!']);\n",
              "            Plotly.purge(gd);\n",
              "            observer.disconnect();\n",
              "        }}\n",
              "}});\n",
              "\n",
              "// Listen for the removal of the full notebook cells\n",
              "var notebookContainer = gd.closest('#notebook-container');\n",
              "if (notebookContainer) {{\n",
              "    x.observe(notebookContainer, {childList: true});\n",
              "}}\n",
              "\n",
              "// Listen for the clearing of the current output cell\n",
              "var outputEl = gd.closest('.output');\n",
              "if (outputEl) {{\n",
              "    x.observe(outputEl, {childList: true});\n",
              "}}\n",
              "\n",
              "                        })                };                            </script>        </div>\n",
              "</body>\n",
              "</html>"
            ]
          },
          "metadata": {}
        }
      ]
    },
    {
      "cell_type": "markdown",
      "source": [
        "**Discuss what you can infer from this plot.**"
      ],
      "metadata": {
        "id": "FAXCkg1xMamL"
      }
    },
    {
      "cell_type": "markdown",
      "source": [
        "Logistic regression assumes that the relationship between blood pressure and the outcome is linear and it is upward.(Positve slope and Positive relation)"
      ],
      "metadata": {
        "id": "xJvjsEXjMdct"
      }
    },
    {
      "cell_type": "markdown",
      "source": [
        "**Calculate the accuracy of this model by counting the number of target values that were correctly predicted and dividing by the total number of target values.**"
      ],
      "metadata": {
        "id": "CJ9cHb-PMgIS"
      }
    },
    {
      "cell_type": "code",
      "source": [
        "from sklearn.metrics import accuracy_score\n",
        "\n",
        "# Calculate accuracy\n",
        "accuracy = accuracy_score(target, predictions)\n",
        "\n",
        "# Display accuracy\n",
        "print(\"Accuracy:\", accuracy)\n"
      ],
      "metadata": {
        "id": "bkzocvDmMu0K",
        "colab": {
          "base_uri": "https://localhost:8080/"
        },
        "outputId": "d153f9b7-47e3-419d-dacd-e80ff3c7e015"
      },
      "execution_count": null,
      "outputs": [
        {
          "output_type": "stream",
          "name": "stdout",
          "text": [
            "Accuracy: 0.6760204081632653\n"
          ]
        }
      ]
    },
    {
      "cell_type": "markdown",
      "source": [
        "Now let's fit a model that uses all features."
      ],
      "metadata": {
        "id": "If6QUfj8M0-C"
      }
    },
    {
      "cell_type": "markdown",
      "source": [
        "**Instantiate and fit a logistic regression model that uses all available features to predict the outcome.**"
      ],
      "metadata": {
        "id": "ye-p4Ho4MvJf"
      }
    },
    {
      "cell_type": "code",
      "source": [
        "from sklearn.preprocessing import StandardScaler\n",
        "\n",
        "# Selecting all columns except the 'Outcome' column as features\n",
        "all_features = data.drop(columns=['Outcome'])\n",
        "\n",
        "# Scale the features\n",
        "scaler = StandardScaler()\n",
        "all_features_scaled = scaler.fit_transform(all_features)\n",
        "\n",
        "# Instantiate the logistic regression model with increased max_iter\n",
        "logistic_model_all_features = LogisticRegression(max_iter=1000)\n",
        "\n",
        "# Fit the model to all features and target\n",
        "logistic_model_all_features.fit(all_features_scaled, target)\n",
        "\n",
        "# Obtain predictions from the logistic regression model using all features\n",
        "predictions_all_features = logistic_model_all_features.predict(all_features_scaled)\n"
      ],
      "metadata": {
        "id": "AQY4ca_8NKzs"
      },
      "execution_count": null,
      "outputs": []
    },
    {
      "cell_type": "markdown",
      "source": [
        "**Calculate the accuracy for this model.**"
      ],
      "metadata": {
        "id": "-DYMScT8NLl3"
      }
    },
    {
      "cell_type": "code",
      "source": [
        "# Calculate accuracy\n",
        "accuracy_all_features = accuracy_score(target, predictions_all_features)\n",
        "\n",
        "# Display accuracy\n",
        "print(\"Accuracy (Using All Features):\", accuracy_all_features)"
      ],
      "metadata": {
        "id": "SpMcIzkgNNry",
        "colab": {
          "base_uri": "https://localhost:8080/"
        },
        "outputId": "f4737a86-5f3f-4d88-b4e8-f7f529cc6c46"
      },
      "execution_count": null,
      "outputs": [
        {
          "output_type": "stream",
          "name": "stdout",
          "text": [
            "Accuracy (Using All Features): 0.7831632653061225\n"
          ]
        }
      ]
    },
    {
      "cell_type": "markdown",
      "source": [
        "**If someone were to ask you if either of the two models that you just fit are \"good\" models, what would you say? (250 words max)**"
      ],
      "metadata": {
        "id": "41cMVUpiNN5m"
      }
    },
    {
      "cell_type": "markdown",
      "source": [
        "I would say that the first model is bad as the accuracy is low(0.67). It is like 1 out 3 are wrong.\n",
        "\n",
        "I would say that second one is good as it yields good accuracy of 0.78."
      ],
      "metadata": {
        "id": "bORg7qpoNoSl"
      }
    },
    {
      "cell_type": "markdown",
      "source": [
        "## **Part 3: Fitting a Decision Tree Model**"
      ],
      "metadata": {
        "id": "IaCGRWma6xR4"
      }
    },
    {
      "cell_type": "markdown",
      "source": [
        "**Fit a decision tree classifier that uses all available features to predict the outcome.**"
      ],
      "metadata": {
        "id": "TlQMmiOV66Dz"
      }
    },
    {
      "cell_type": "code",
      "source": [
        "# Instantiate the decision tree classifier\n",
        "decision_tree_model = DecisionTreeClassifier()\n",
        "\n",
        "# Fit the model to all features and target\n",
        "decision_tree_model.fit(all_features, target)\n",
        "\n",
        "# Obtain predictions from the decision tree model using all features\n",
        "predictions_decision_tree = decision_tree_model.predict(all_features)\n",
        "\n",
        "# Calculate accuracy\n",
        "accuracy_decision_tree = accuracy_score(target, predictions_decision_tree)\n",
        "\n",
        "# Display accuracy\n",
        "print(\"Accuracy (Decision Tree):\", accuracy_decision_tree)\n"
      ],
      "metadata": {
        "id": "XtX3MdPf7DVe",
        "colab": {
          "base_uri": "https://localhost:8080/"
        },
        "outputId": "1d8fe928-2539-483a-bfda-f626e9444676"
      },
      "execution_count": null,
      "outputs": [
        {
          "output_type": "stream",
          "name": "stdout",
          "text": [
            "Accuracy (Decision Tree): 1.0\n"
          ]
        }
      ]
    },
    {
      "cell_type": "markdown",
      "source": [
        "**What feature is used to create the first split (i.e., the root node)?**"
      ],
      "metadata": {
        "id": "a1P0Edom7ECI"
      }
    },
    {
      "cell_type": "code",
      "source": [
        "# Get the index of the feature used for the first split\n",
        "first_split_feature_index = decision_tree_model.tree_.feature[0]\n",
        "\n",
        "# Get the name of the feature\n",
        "first_split_feature = all_features.columns[first_split_feature_index]\n",
        "\n",
        "# Display the feature used for the first split\n",
        "print(\"Feature used for the first split:\", first_split_feature)\n"
      ],
      "metadata": {
        "id": "K4nlQUKB7tAF",
        "colab": {
          "base_uri": "https://localhost:8080/"
        },
        "outputId": "15035a8f-b2ac-4533-964f-b8fcc83668f0"
      },
      "execution_count": null,
      "outputs": [
        {
          "output_type": "stream",
          "name": "stdout",
          "text": [
            "Feature used for the first split: Glucose\n"
          ]
        }
      ]
    },
    {
      "cell_type": "markdown",
      "source": [
        "**How does the accuracy of the decision tree model compare with the logistic regression models?**"
      ],
      "metadata": {
        "id": "SS05QL207urt"
      }
    },
    {
      "cell_type": "code",
      "source": [
        "# Display accuracy of logistic regression model using all features\n",
        "print(\"Accuracy (Logistic Regression with all features):\", accuracy_all_features)\n",
        "\n",
        "# Display accuracy of decision tree model\n",
        "print(\"Accuracy (Decision Tree):\", accuracy_decision_tree)\n"
      ],
      "metadata": {
        "id": "CP2IBHzX736a",
        "colab": {
          "base_uri": "https://localhost:8080/"
        },
        "outputId": "950fe5aa-92e3-42ee-a046-a03184254729"
      },
      "execution_count": null,
      "outputs": [
        {
          "output_type": "stream",
          "name": "stdout",
          "text": [
            "Accuracy (Logistic Regression with all features): 0.7831632653061225\n",
            "Accuracy (Decision Tree): 1.0\n"
          ]
        }
      ]
    },
    {
      "cell_type": "markdown",
      "source": [
        "The accuracy of Decision Tree 1.0 which indicates perfect. As discussed in the class, it is very powerful.\n",
        "Relatively Logistic Regression Model gave very lesser accuracy.\n"
      ],
      "metadata": {
        "id": "2KFBpt1vQwJ8"
      }
    },
    {
      "cell_type": "markdown",
      "source": [
        "**Do the two models fail on the same cases (objects) or different cases?**"
      ],
      "metadata": {
        "id": "b2eLkjYm8fQi"
      }
    },
    {
      "cell_type": "code",
      "source": [
        "# Find cases where logistic regression model and decision tree model predictions differ\n",
        "discrepancies = (predictions_all_features != predictions_decision_tree)\n",
        "\n",
        "# Print the indices of cases where the predictions differ\n",
        "print(\"Indices of cases where predictions differ:\", np.where(discrepancies)[0])\n"
      ],
      "metadata": {
        "id": "8SCDc0om8e-t",
        "colab": {
          "base_uri": "https://localhost:8080/"
        },
        "outputId": "16a7cd8c-caa5-41ec-fe8f-20b9642b79b5"
      },
      "execution_count": null,
      "outputs": [
        {
          "output_type": "stream",
          "name": "stdout",
          "text": [
            "Indices of cases where predictions differ: [  2   6   8  11  13  18  24  31  41  44  49  57  60  73  80  82  90  91\n",
            "  94  95  96 101 102 104 107 110 117 119 122 123 125 134 135 136 140 142\n",
            " 143 144 146 147 152 153 155 163 164 168 172 176 183 204 208 210 212 220\n",
            " 228 235 241 242 248 250 252 255 263 276 277 283 294 295 301 312 325 329\n",
            " 330 332 337 339 340 345 346 348 357 363 371 374 382]\n"
          ]
        }
      ]
    },
    {
      "cell_type": "markdown",
      "source": [
        "**How much worse is the accuracy of a decision tree model that uses all of the features *except* the one that was used to create the root node in the model above?**"
      ],
      "metadata": {
        "id": "qDJZfo7z8BET"
      }
    },
    {
      "cell_type": "code",
      "source": [
        "# Exclude the feature used for the first split\n",
        "excluded_feature = first_split_feature\n",
        "remaining_features = all_features.drop(columns=[excluded_feature])\n",
        "\n",
        "# Instantiate and fit the decision tree classifier with remaining features\n",
        "decision_tree_model_excluded = DecisionTreeClassifier()\n",
        "decision_tree_model_excluded.fit(remaining_features, target)\n",
        "\n",
        "# Obtain predictions from the decision tree model using remaining features\n",
        "predictions_decision_tree_excluded = decision_tree_model_excluded.predict(remaining_features)\n",
        "\n",
        "# Calculate accuracy\n",
        "accuracy_decision_tree_excluded = accuracy_score(target, predictions_decision_tree_excluded)\n",
        "\n",
        "# Display accuracy\n",
        "print(\"Accuracy (Decision Tree Excluding {}):\".format(excluded_feature), accuracy_decision_tree_excluded)\n"
      ],
      "metadata": {
        "id": "UQU_cB8U8Pr9",
        "colab": {
          "base_uri": "https://localhost:8080/"
        },
        "outputId": "3bb88c66-37a4-48f6-b569-b509461274cc"
      },
      "execution_count": null,
      "outputs": [
        {
          "output_type": "stream",
          "name": "stdout",
          "text": [
            "Accuracy (Decision Tree Excluding Glucose): 1.0\n"
          ]
        }
      ]
    }
  ]
}