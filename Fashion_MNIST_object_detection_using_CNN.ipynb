{
  "cells": [
    {
      "cell_type": "markdown",
      "metadata": {
        "id": "LAOd-J7cm8UD"
      },
      "source": [
        "# MATH637-011 Homework 3 (10% total grade)\n",
        "\n",
        "## **Deadline: 10/27/2023 11:59 PM**\n",
        "\n",
        "In this homework, we will train and test a simple convolutional neural network on the [Fashion MNIST dataset](https://www.tensorflow.org/tutorials/keras/classification) using Keras. This dataset contains grayscale images of 10 different fashion categories.\n"
      ]
    },
    {
      "cell_type": "markdown",
      "metadata": {
        "id": "I9FVTiMOqh2Q"
      },
      "source": [
        "## 1. Download and load dataset (1% total grade)\n",
        "\n",
        "Read [this API](https://www.tensorflow.org/api_docs/python/tf/keras/datasets/fashion_mnist/load_data) and use the function `fashion_mnist.load_data()` to download and load the data into the variables: `X_train, Y_train, X_test, Y_test`.\n",
        "\n",
        "You should make sure that the shapes of `X_train, Y_train, X_test, Y_test` are `(60000, 28, 28) (60000,), (10000, 28, 28), (10000,)` respectively."
      ]
    },
    {
      "cell_type": "code",
      "execution_count": null,
      "metadata": {
        "id": "KAHH-eJ3--7p",
        "colab": {
          "base_uri": "https://localhost:8080/"
        },
        "outputId": "94f958a8-88b8-45ba-b63b-b53895e5374b"
      },
      "outputs": [
        {
          "output_type": "stream",
          "name": "stdout",
          "text": [
            "(60000, 28, 28) (60000,)\n",
            "(10000, 28, 28) (10000,)\n"
          ]
        }
      ],
      "source": [
        "from keras.datasets import fashion_mnist\n",
        "\n",
        "(X_train, Y_train), (X_test, Y_test) = fashion_mnist.load_data()\n",
        "\n",
        "print(X_train.shape, Y_train.shape)\n",
        "print(X_test.shape, Y_test.shape)"
      ]
    },
    {
      "cell_type": "markdown",
      "metadata": {
        "id": "rqfMVG7eptgc"
      },
      "source": [
        "## 2. Convert pixel values to range [0, 1] (1% total grade)\n",
        "\n",
        "The pixel values of your loaded images are integers in `[0, 255]`, while classifiers usually require real-valued pixels in `[0, 1]` to work well.\n",
        "\n",
        "Write code to convert the train and test images' pixels in `X_train` and `X_test` to range `[0, 1]` by dividing all pixels by `255.0`."
      ]
    },
    {
      "cell_type": "code",
      "execution_count": null,
      "metadata": {
        "id": "HDmOtejC_BN1"
      },
      "outputs": [],
      "source": [
        "X_train = X_train.astype('float32') / 255\n",
        "X_test = X_test.astype('float32') / 255"
      ]
    },
    {
      "cell_type": "markdown",
      "metadata": {
        "id": "T6YYnrn9sdzT"
      },
      "source": [
        "## 3. Inspect some train images and labels (1% total grade)\n",
        "\n",
        "Given a variable `img_id`, write code to:\n",
        "*   Plot the input image at index `img_id` in the training set.\n",
        "*   And print out the label string of this image.\n",
        "\n",
        "You can vary `img_id` to see different input images and the corresponding labels. (Choose a value for `img_id` to run the code; you don't have to write a function)."
      ]
    },
    {
      "cell_type": "code",
      "execution_count": null,
      "metadata": {
        "id": "Mv6LYmgX_FAf",
        "colab": {
          "base_uri": "https://localhost:8080/",
          "height": 447
        },
        "outputId": "9025a1a4-4581-4f85-8a0d-f7f1a2591032"
      },
      "outputs": [
        {
          "output_type": "display_data",
          "data": {
            "text/plain": [
              "<Figure size 640x480 with 1 Axes>"
            ],
            "image/png": "[encoded data removed]"
          },
          "metadata": {}
        },
        {
          "output_type": "stream",
          "name": "stdout",
          "text": [
            "Shirt\n"
          ]
        }
      ],
      "source": [
        "import matplotlib.pyplot as plt\n",
        "\n",
        "# List of label strings are\n",
        "label_str = ['T-shirt/top', 'Trouser', 'Pullover', 'Dress', 'Coat', 'Sandal', 'Shirt', 'Sneaker', 'Bag', 'Ankle boot']\n",
        "\n",
        "img_id = 77\n",
        "image = X_train[img_id]\n",
        "label = Y_train[img_id]\n",
        "\n",
        "plt.imshow(image)\n",
        "plt.show()\n",
        "print(label_str[label])"
      ]
    },
    {
      "cell_type": "markdown",
      "metadata": {
        "id": "Xk_e07lGstPy"
      },
      "source": [
        "## 4. Reshape input images (1% total grade)\n",
        "\n",
        "To train and test a CNN model,\n",
        "each input image must have 3 dimensions (height, width, channel). However, the images in `X_train` and `X_test` only have 2 dimensions currently (height, width). Write code to reshape `X_train` and `X_test` to include one additional dimension for the channel.\n",
        "\n",
        "The new shapes for `X_train` and `X_test` should be `(60000, 28, 28, 1)` and `(10000, 28, 28, 1)`."
      ]
    },
    {
      "cell_type": "code",
      "execution_count": null,
      "metadata": {
        "id": "3xqK_ln-_GbM",
        "colab": {
          "base_uri": "https://localhost:8080/"
        },
        "outputId": "3c53be77-a123-4a45-a251-be6d7f462216"
      },
      "outputs": [
        {
          "output_type": "stream",
          "name": "stdout",
          "text": [
            "(60000, 28, 28, 1) (60000,)\n",
            "(10000, 28, 28, 1) (10000,)\n"
          ]
        }
      ],
      "source": [
        "import numpy as np\n",
        "\n",
        "# expand_dims is used to add Dimension and \"axis= -1\" adds the dimension at the end\n",
        "X_train = np.expand_dims(X_train, axis=-1)\n",
        "X_test = np.expand_dims(X_test, axis=-1)\n",
        "\n",
        "print(X_train.shape, Y_train.shape)\n",
        "print(X_test.shape, Y_test.shape)"
      ]
    },
    {
      "cell_type": "markdown",
      "metadata": {
        "id": "6nmn-qiHszwG"
      },
      "source": [
        "## 5. Convert label vectors into one-hot encodings (1% total grade)\n",
        "\n",
        "To train/test a model with Keras, the labels have to be in one-hot encoding format. Write code to convert the train and test label vectors into one-hot encodings."
      ]
    },
    {
      "cell_type": "code",
      "execution_count": null,
      "metadata": {
        "id": "MldIEvpK_Im8"
      },
      "outputs": [],
      "source": [
        "import keras\n",
        "num_classes=10 #Since it contains 10 labels\n",
        "Y_train = keras.utils.to_categorical(Y_train, num_classes)\n",
        "Y_test = keras.utils.to_categorical(Y_test, num_classes)"
      ]
    },
    {
      "cell_type": "markdown",
      "metadata": {
        "id": "e3beHBBas5n8"
      },
      "source": [
        "## 6. Define the CNN model (2% total grade)\n",
        "\n",
        "Write code to define a CNN model with:\n",
        "*   1 convolutional layer with 16 3x3 filters, `relu` activation, and `same` padding. Be sure to set the correct `input_shape` for this dataset.\n",
        "*   1 max pooling layer with a 2x2 filter.\n",
        "*   Then the resulting tensor is flattened into a vector.\n",
        "*   The flattened vector is put through a Dense layer with 50 hidden nodes and `relu` activation.\n",
        "*   Finally, a Dense output layer with 10 output labels and `softmax` activation."
      ]
    },
    {
      "cell_type": "code",
      "execution_count": null,
      "metadata": {
        "id": "zNY-FEZ__KYf",
        "colab": {
          "base_uri": "https://localhost:8080/"
        },
        "outputId": "49970e6d-3764-4a55-ec80-7d6afd4cf8f0"
      },
      "outputs": [
        {
          "output_type": "stream",
          "name": "stdout",
          "text": [
            "Model: \"sequential_2\"\n",
            "_________________________________________________________________\n",
            " Layer (type)                Output Shape              Param #   \n",
            "=================================================================\n",
            " conv2d_2 (Conv2D)           (None, 28, 28, 16)        160       \n",
            "                                                                 \n",
            " max_pooling2d_4 (MaxPoolin  (None, 14, 14, 16)        0         \n",
            " g2D)                                                            \n",
            "                                                                 \n",
            " max_pooling2d_5 (MaxPoolin  (None, 7, 7, 16)          0         \n",
            " g2D)                                                            \n",
            "                                                                 \n",
            " flatten_2 (Flatten)         (None, 784)               0         \n",
            "                                                                 \n",
            " dense_4 (Dense)             (None, 50)                39250     \n",
            "                                                                 \n",
            " dense_5 (Dense)             (None, 10)                510       \n",
            "                                                                 \n",
            "=================================================================\n",
            "Total params: 39920 (155.94 KB)\n",
            "Trainable params: 39920 (155.94 KB)\n",
            "Non-trainable params: 0 (0.00 Byte)\n",
            "_________________________________________________________________\n"
          ]
        }
      ],
      "source": [
        "from keras.src.layers.serialization import activation\n",
        "from keras.layers import Conv2D\n",
        "from keras.layers import MaxPooling2D\n",
        "from keras.models import Sequential\n",
        "import keras.layers as layers\n",
        "model = Sequential()\n",
        "model.add(Conv2D(16, kernel_size =(3, 3), activation='relu', padding=\"same\", input_shape=(28, 28, 1)))\n",
        "\n",
        "model.add(MaxPooling2D(pool_size=(2,2)))\n",
        "\n",
        "model.add(layers.MaxPooling2D((2, 2)))\n",
        "model.add(layers.Flatten())\n",
        "\n",
        "model.add(layers.Dense(50, activation='relu'))\n",
        "model.add(layers.Dense(10, activation='softmax'))\n",
        "model.summary()\n"
      ]
    },
    {
      "cell_type": "markdown",
      "metadata": {
        "id": "g0GYIi5as-kW"
      },
      "source": [
        "## 7. Compile the model (1% total grade)\n",
        "\n",
        "Write code to compile the model with `loss='categorical_crossentropy'`, `optimizer='sgd'`, and `metrics=['accuracy']`."
      ]
    },
    {
      "cell_type": "code",
      "execution_count": null,
      "metadata": {
        "id": "JZAlqgAHkxqi"
      },
      "outputs": [],
      "source": [
        "model.compile(loss=\"categorical_crossentropy\", optimizer=\"sgd\", metrics=[\"accuracy\"])"
      ]
    },
    {
      "cell_type": "markdown",
      "metadata": {
        "id": "DOeaMVkKtC6D"
      },
      "source": [
        "## 8. Train the model (1% total grade)\n",
        "\n",
        "Write code to train the model for 10 epochs and with batch_size=128."
      ]
    },
    {
      "cell_type": "code",
      "execution_count": null,
      "metadata": {
        "id": "bvUK8objk_oh",
        "colab": {
          "base_uri": "https://localhost:8080/"
        },
        "outputId": "a622358a-65cf-411c-c8b2-2060f2df3123"
      },
      "outputs": [
        {
          "output_type": "stream",
          "name": "stdout",
          "text": [
            "Epoch 1/10\n",
            "422/422 [==============================] - 3s 5ms/step - loss: 1.3018 - accuracy: 0.5786 - val_loss: 0.7874 - val_accuracy: 0.7312\n",
            "Epoch 2/10\n",
            "422/422 [==============================] - 2s 5ms/step - loss: 0.7178 - accuracy: 0.7494 - val_loss: 0.6326 - val_accuracy: 0.7775\n",
            "Epoch 3/10\n",
            "422/422 [==============================] - 3s 6ms/step - loss: 0.6243 - accuracy: 0.7768 - val_loss: 0.5806 - val_accuracy: 0.7905\n",
            "Epoch 4/10\n",
            "422/422 [==============================] - 3s 6ms/step - loss: 0.5785 - accuracy: 0.7908 - val_loss: 0.5590 - val_accuracy: 0.7873\n",
            "Epoch 5/10\n",
            "422/422 [==============================] - 2s 5ms/step - loss: 0.5494 - accuracy: 0.7996 - val_loss: 0.5237 - val_accuracy: 0.8093\n",
            "Epoch 6/10\n",
            "422/422 [==============================] - 2s 5ms/step - loss: 0.5256 - accuracy: 0.8110 - val_loss: 0.5070 - val_accuracy: 0.8122\n",
            "Epoch 7/10\n",
            "422/422 [==============================] - 2s 5ms/step - loss: 0.5059 - accuracy: 0.8183 - val_loss: 0.4982 - val_accuracy: 0.8143\n",
            "Epoch 8/10\n",
            "422/422 [==============================] - 2s 5ms/step - loss: 0.4878 - accuracy: 0.8246 - val_loss: 0.4744 - val_accuracy: 0.8255\n",
            "Epoch 9/10\n",
            "422/422 [==============================] - 2s 5ms/step - loss: 0.4742 - accuracy: 0.8306 - val_loss: 0.4641 - val_accuracy: 0.8317\n",
            "Epoch 10/10\n",
            "422/422 [==============================] - 2s 6ms/step - loss: 0.4621 - accuracy: 0.8363 - val_loss: 0.4667 - val_accuracy: 0.8302\n"
          ]
        },
        {
          "output_type": "execute_result",
          "data": {
            "text/plain": [
              "<keras.src.callbacks.History at 0x783e89326e60>"
            ]
          },
          "metadata": {},
          "execution_count": 34
        }
      ],
      "source": [
        "batch_size = 128\n",
        "epochs = 10\n",
        "\n",
        "model.fit(X_train, Y_train, batch_size=batch_size, epochs=epochs, validation_split=0.1)"
      ]
    },
    {
      "cell_type": "markdown",
      "metadata": {
        "id": "fJXv0PP5tHR7"
      },
      "source": [
        "## 9. Evaluate the trained model on test set (1% total grade)\n",
        "\n",
        "Write code to compute and print out the accuracy of the model on test set."
      ]
    },
    {
      "cell_type": "code",
      "execution_count": null,
      "metadata": {
        "id": "CO73WAFek1fW",
        "colab": {
          "base_uri": "https://localhost:8080/"
        },
        "outputId": "cfbfed6c-93a4-4d72-b3ab-09de1274c6fe"
      },
      "outputs": [
        {
          "output_type": "stream",
          "name": "stdout",
          "text": [
            "313/313 [==============================] - 1s 4ms/step - loss: 0.4891 - accuracy: 0.8240\n",
            "0.8240000009536743\n"
          ]
        }
      ],
      "source": [
        "test_loss, test_accuracy = model.evaluate(X_test, Y_test)\n",
        "print(test_accuracy)"
      ]
    },
    {
      "cell_type": "markdown",
      "metadata": {
        "id": "OJQ8vh-PtQoz"
      },
      "source": [
        "## 10. Bonus: Plot some test images and compare true labels with predicted labels\n",
        "\n",
        "(This is just for fun though. If you make a mistake somewhere then I can consider this for more credits).\n",
        "\n",
        "Given the `img_id` variable:\n",
        "*   Plot the image with index `img_id` in your **test set**.\n",
        "*   Print out the true label string of the image.\n",
        "*   Print out the predicted label string of the image (computed from your trained model above).\n",
        "\n",
        "See below for a sample output."
      ]
    },
    {
      "cell_type": "code",
      "execution_count": null,
      "metadata": {
        "colab": {
          "base_uri": "https://localhost:8080/"
        },
        "id": "T2GpwQn8tkrI",
        "outputId": "2ebc5abe-c60b-4ee5-90e0-d5c883aee2dc"
      },
      "outputs": [
        {
          "output_type": "stream",
          "name": "stdout",
          "text": [
            "313/313 [==============================] - 1s 3ms/step\n"
          ]
        }
      ],
      "source": [
        "pred = model.predict(X_test)"
      ]
    },
    {
      "cell_type": "code",
      "source": [
        "img_id = 9\n",
        "\n",
        "img = X_test[img_id]\n",
        "ind = Y_test[img_id]\n",
        "plt.imshow(img)\n",
        "plt.show()\n",
        "\n",
        "# pred[img_id] gives the predicted Output.\n",
        "# But both pred[img_id] & Y_test[img_id] are in One Hot Code. To convert them to labels, can use label_str[np.argmax(true_OP or Pred_OP)]\n",
        "print(\"True Label: \", label_str[np.argmax(ind)])\n",
        "print(\"Predicted Label: \", label_str[np.argmax(pred[img_id])])"
      ],
      "metadata": {
        "colab": {
          "base_uri": "https://localhost:8080/",
          "height": 465
        },
        "id": "Ifh2Moprdjqe",
        "outputId": "92890ed4-43cd-4bad-d725-4af61d9fd1b3"
      },
      "execution_count": null,
      "outputs": [
        {
          "output_type": "display_data",
          "data": {
            "text/plain": [
              "<Figure size 640x480 with 1 Axes>"
            ],
            "image/png": "[encoded data removed]"
          },
          "metadata": {}
        },
        {
          "output_type": "stream",
          "name": "stdout",
          "text": [
            "True Label:  Sneaker\n",
            "Predicted Label:  Sneaker\n"
          ]
        }
      ]
    }
  ],
  "metadata": {
    "accelerator": "GPU",
    "colab": {
      "provenance": []
    },
    "kernelspec": {
      "display_name": "Python 3",
      "name": "python3"
    },
    "language_info": {
      "name": "python"
    }
  },
  "nbformat": 4,
  "nbformat_minor": 0
}