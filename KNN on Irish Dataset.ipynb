{
  "cells": [
    {
      "cell_type": "markdown",
      "metadata": {
        "id": "YqX1Xl-7GmaP"
      },
      "source": [
        "# Nearest Neighbors\n",
        "\n",
        "In this example, we will train a nearest neighbour classifier on the Iris dataset."
      ]
    },
    {
      "cell_type": "markdown",
      "metadata": {
        "id": "vyzZNRHfHJ6t"
      },
      "source": [
        "## 1. Load data\n",
        "\n",
        "First, we load the dataset from `sklearn` and print its feature names as well as the target names (labels)."
      ]
    },
    {
      "cell_type": "code",
      "execution_count": null,
      "metadata": {
        "id": "Dyjf02U3CCY2"
      },
      "outputs": [],
      "source": [
        "from sklearn.datasets import load_iris\n",
        "\n",
        "iris = load_iris()\n",
        "\n",
        "print(iris.feature_names)\n",
        "print(iris.target_names)"
      ]
    },
    {
      "cell_type": "markdown",
      "source": [
        "This dataset has 4 features and 3 labels.\n",
        "\n",
        "Now we get the input matrix X and the label vector Y from the dataset:\n",
        "*   Each row of the matrix X is an example and each column corresponds to a feature.\n",
        "*   The label vector Y contains the labels of all examples.\n",
        "\n",
        "Let's print the sizes of the input matrix X and the label vector Y. Also, print the first 10 examples and labels."
      ],
      "metadata": {
        "id": "KXJGxwqBtJYh"
      }
    },
    {
      "cell_type": "code",
      "source": [
        "X, Y = iris.data, iris.target\n",
        "\n",
        "print(X.shape)\n",
        "print(Y.shape)\n",
        "\n",
        "print(X)\n",
        "print(Y)"
      ],
      "metadata": {
        "id": "b_0p8xwhtUhA"
      },
      "execution_count": null,
      "outputs": []
    },
    {
      "cell_type": "markdown",
      "source": [
        "We see that there are 150 examples in the dataset and each example has 4 features.\n",
        "\n",
        "### Question: What kind of iris has 5cm x 3cm sepal and 5cm x 2cm petal?"
      ],
      "metadata": {
        "id": "DqlqSnyStYMv"
      }
    },
    {
      "cell_type": "markdown",
      "metadata": {
        "id": "OLShtZ-3M9Up"
      },
      "source": [
        "## 2. Split data into train/test sets"
      ]
    },
    {
      "cell_type": "code",
      "source": [],
      "metadata": {
        "id": "3XTzFz70w4Es"
      },
      "execution_count": null,
      "outputs": []
    },
    {
      "cell_type": "markdown",
      "metadata": {
        "id": "x4OJ6YLfOsbl"
      },
      "source": [
        "## 3. Create and train K-NN on train set"
      ]
    },
    {
      "cell_type": "code",
      "execution_count": null,
      "metadata": {
        "id": "QALp75NpM2ei"
      },
      "outputs": [],
      "source": []
    },
    {
      "cell_type": "markdown",
      "metadata": {
        "id": "Ygp-oac8P-Lq"
      },
      "source": [
        "## 4. Question: What kind of iris has 5cm x 3cm sepal and 3cm x 1cm petal?"
      ]
    },
    {
      "cell_type": "code",
      "execution_count": null,
      "metadata": {
        "id": "ihUY0fh1QI_L"
      },
      "outputs": [],
      "source": []
    },
    {
      "cell_type": "markdown",
      "metadata": {
        "id": "ld3LYB_FQZpy"
      },
      "source": [
        "## 5. Make predictions on test set and Evaluate the predictions\n",
        "\n",
        "For classification, we can use accuracy as the metric for evaluation."
      ]
    },
    {
      "cell_type": "code",
      "execution_count": null,
      "metadata": {
        "id": "yh67buXDQdyC"
      },
      "outputs": [],
      "source": []
    }
  ],
  "metadata": {
    "colab": {
      "provenance": []
    },
    "kernelspec": {
      "display_name": "Python 3",
      "name": "python3"
    },
    "language_info": {
      "name": "python"
    }
  },
  "nbformat": 4,
  "nbformat_minor": 0
}