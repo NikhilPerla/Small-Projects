{
  "nbformat": 4,
  "nbformat_minor": 0,
  "metadata": {
    "colab": {
      "provenance": []
    },
    "kernelspec": {
      "name": "python3",
      "display_name": "Python 3"
    },
    "language_info": {
      "name": "python"
    }
  },
  "cells": [
    {
      "cell_type": "markdown",
      "source": [
        "**Step 1: Generating Dataset**"
      ],
      "metadata": {
        "id": "NtB30grqXISg"
      }
    },
    {
      "cell_type": "code",
      "execution_count": 52,
      "metadata": {
        "id": "xR0Exx6TWOoV"
      },
      "outputs": [],
      "source": [
        "import numpy as np\n",
        "from sklearn.linear_model import LassoCV, Lasso\n",
        "from sklearn.model_selection import cross_val_score, train_test_split\n",
        "from sklearn.preprocessing import MinMaxScaler\n",
        "import matplotlib.pyplot as plt\n",
        "\n",
        "# Step 1: Generate dataset\n",
        "np.random.seed(40)\n",
        "\n",
        "# Given mean=(0,0) and cov_matrix = [1, 1.75, 1.75, 4]\n",
        "mean = [0, 0]\n",
        "covariance_matrix = [[1, 1.75], [1.75, 4]]\n",
        "\n",
        "# Asked to Generate 20,000 examples\n",
        "X = np.random.multivariate_normal(mean, covariance_matrix, 20000)\n",
        "\n",
        "# Gaussian noise with mean zero and standard deviation 0.1\n",
        "epsilon = np.random.normal(0, 0.1, 20000)\n",
        "\n",
        "# Given y = 2x1 + ϵ\n",
        "\n",
        "y = 2 * X[:, 0] + epsilon\n",
        "\n",
        "# Here we know that only x1 is significant and x2 is non-significant features."
      ]
    },
    {
      "cell_type": "markdown",
      "source": [
        "**Step 2: Linear feature selection.**"
      ],
      "metadata": {
        "id": "gvjaka7PWfnf"
      }
    },
    {
      "cell_type": "code",
      "source": [
        "# Step 2: Linear feature selection with Lasso\n",
        "\n",
        "# Set up Lasso regression model with 5-fold cross-validation to select λ\n",
        "lasso_cv = LassoCV(cv=5, random_state=42)\n",
        "lasso_cv.fit(X, y)\n",
        "\n",
        "# Optimal value of lambda λ*\n",
        "optimal_lambda = lasso_cv.alpha_\n",
        "# print(lasso_cv.alphas_)\n",
        "# print(min(lasso_cv.alphas_))\n",
        "print(optimal_lambda)\n",
        "\n",
        "# Perform Lasso with optimal lambda(λ*)\n",
        "lasso_model = Lasso(alpha=optimal_lambda)\n",
        "lasso_model.fit(X, y)\n",
        "\n",
        "# Feature coefficients\n",
        "coefficients = lasso_model.coef_\n",
        "print(coefficients)\n",
        "\n",
        "# Features with Coefficient Value '0' are non-significant features\n",
        "significant_features = np.array(['x1', 'x2'])[coefficients != 0]\n",
        "non_significant_features = np.array(['x1', 'x2'])[coefficients == 0]\n",
        "\n",
        "print(f'Significant Features: {significant_features}')\n",
        "print(f'Non-Significant Features: {non_significant_features}')\n",
        "\n",
        "# The procedure does not recover the correct significant/non-significant features.\n",
        "# It returned both x1, x2 are significant but we know only x1 is significant and x2 is non-significant."
      ],
      "metadata": {
        "colab": {
          "base_uri": "https://localhost:8080/"
        },
        "id": "npPa06fUW0KX",
        "outputId": "c09d8ad0-e8c8-40a2-a10d-b63aa745db7d"
      },
      "execution_count": 56,
      "outputs": [
        {
          "output_type": "stream",
          "name": "stdout",
          "text": [
            "0.0035396863088868833\n",
            "[1.99327717e+00 1.68880282e-03]\n",
            "Significant Features: ['x1' 'x2']\n",
            "Non-Significant Features: []\n"
          ]
        }
      ]
    },
    {
      "cell_type": "markdown",
      "source": [
        "**Conclusion:** The procedure does not recover the correct significant/non-significant features. It returned both x1, x2 are significant but we know only x1 is significant and x2 is non-significant."
      ],
      "metadata": {
        "id": "_JtKnVeGdZea"
      }
    },
    {
      "cell_type": "markdown",
      "source": [
        "**Step 3: Lasso with standardized data**\n"
      ],
      "metadata": {
        "id": "2R7N4VxPW0ng"
      }
    },
    {
      "cell_type": "code",
      "source": [
        "# Step-3\n",
        "# Standardize features using Min Max Scaler with feature range (-1, 1)\n",
        "scaler = MinMaxScaler(feature_range=(-1, 1))\n",
        "X_standardize = scaler.fit_transform(X)\n",
        "\n",
        "# y = 2 * X_standardize[:, 0] + epsilon\n",
        "\n",
        "# Set up Lasso regression model with 5-fold cross-validation\n",
        "lasso_cv = LassoCV(cv=5, random_state=42)\n",
        "lasso_cv.fit(X_standardize, y)\n",
        "\n",
        "# Optimal value of lambda λ*\n",
        "optimal_lambda = lasso_cv.alpha_\n",
        "print(optimal_lambda)\n",
        "\n",
        "# Perform Lasso with optimal lambda(λ*)\n",
        "lasso_model = Lasso(alpha=optimal_lambda)\n",
        "lasso_model.fit(X_standardize, y)\n",
        "\n",
        "# Feature coefficients\n",
        "coefficients = lasso_model.coef_\n",
        "print(coefficients)\n",
        "\n",
        "# Features with Coefficient Value '0' are non-significant features\n",
        "significant_features = np.array(['x1', 'x2'])[coefficients != 0]\n",
        "non_significant_features = np.array(['x1', 'x2'])[coefficients == 0]\n",
        "\n",
        "print(f'Significant Features: {significant_features}')\n",
        "print(f'Non-Significant Features: {non_significant_features}')"
      ],
      "metadata": {
        "colab": {
          "base_uri": "https://localhost:8080/"
        },
        "id": "J741W5v6LFna",
        "outputId": "fa144af6-7d38-4b5d-b71a-57a8ca183d65"
      },
      "execution_count": 57,
      "outputs": [
        {
          "output_type": "stream",
          "name": "stdout",
          "text": [
            "0.0005006674652143109\n",
            "[8.08392738 0.        ]\n",
            "Significant Features: ['x1']\n",
            "Non-Significant Features: ['x2']\n"
          ]
        }
      ]
    },
    {
      "cell_type": "markdown",
      "source": [
        "**Conclusion:** The procedure recovers the correct significant/non-significant features. It returned x1 as significant and x2 as non-significant features as they are."
      ],
      "metadata": {
        "id": "ShxbrG8HeIcU"
      }
    }
  ]
}