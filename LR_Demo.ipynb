{
  "nbformat": 4,
  "nbformat_minor": 0,
  "metadata": {
    "colab": {
      "provenance": [],
      "gpuType": "T4"
    },
    "kernelspec": {
      "name": "python3",
      "display_name": "Python 3"
    },
    "language_info": {
      "name": "python"
    },
    "accelerator": "GPU"
  },
  "cells": [
    {
      "cell_type": "markdown",
      "source": [
        "In this excercise, we try different machine learning algorithm for recognizing hand-written digits."
      ],
      "metadata": {
        "id": "FL8Z_vFQ51CA"
      }
    },
    {
      "cell_type": "markdown",
      "source": [
        "# 1. Obtain dataset"
      ],
      "metadata": {
        "id": "8hnLRSTv5uJu"
      }
    },
    {
      "cell_type": "code",
      "execution_count": 1,
      "metadata": {
        "id": "6kBViLyy2wkz",
        "colab": {
          "base_uri": "https://localhost:8080/"
        },
        "outputId": "64dcda36-77f5-4329-b94e-4cc3a1fd308a"
      },
      "outputs": [
        {
          "output_type": "stream",
          "name": "stdout",
          "text": [
            "Downloading data from https://storage.googleapis.com/tensorflow/tf-keras-datasets/mnist.npz\n",
            "\u001b[1m11490434/11490434\u001b[0m \u001b[32m━━━━━━━━━━━━━━━━━━━━\u001b[0m\u001b[37m\u001b[0m \u001b[1m2s\u001b[0m 0us/step\n",
            "(60000, 28, 28)\n",
            "(60000,)\n"
          ]
        }
      ],
      "source": [
        "from tensorflow import keras\n",
        "import numpy as np\n",
        "\n",
        "(X_tr, y_tr), (X_t, y_t) = keras.datasets.mnist.load_data()\n",
        "\n",
        "print(np.shape(X_tr))\n",
        "print(np.shape(y_tr))\n"
      ]
    },
    {
      "cell_type": "markdown",
      "source": [
        "Peeking at the data"
      ],
      "metadata": {
        "id": "KKTsReKf5lEV"
      }
    },
    {
      "cell_type": "code",
      "source": [
        "import matplotlib.pyplot as plt\n",
        "id = np.random.randint(low = 1, high =5000)\n",
        "\n",
        "plt.imshow(X_tr[id])\n",
        "print(y_tr[id])"
      ],
      "metadata": {
        "id": "Cuk7iiUm42EZ",
        "colab": {
          "base_uri": "https://localhost:8080/",
          "height": 447
        },
        "outputId": "cbe05dcd-d7fc-4866-ec3c-221dceab0704"
      },
      "execution_count": 2,
      "outputs": [
        {
          "output_type": "stream",
          "name": "stdout",
          "text": [
            "0\n"
          ]
        },
        {
          "output_type": "display_data",
          "data": {
            "text/plain": [
              "<Figure size 640x480 with 1 Axes>"
            ],
            "image/png": "[encoded data removed]"
          },
          "metadata": {}
        }
      ]
    },
    {
      "cell_type": "markdown",
      "source": [
        "Just take digits 3 and 8.\n",
        "\n",
        "Convert the 28x28 images to 1d vectors, scale pixel values to [0, 1]."
      ],
      "metadata": {
        "id": "FgwroqsqSVny"
      }
    },
    {
      "cell_type": "code",
      "source": [
        "I = np.where((y_tr == 3)|(y_tr == 8))\n",
        "J = np.where((y_t == 3)|(y_t == 8))\n",
        "\n",
        "\n",
        "X_train = X_tr[I].reshape((-1, 784))/255.0\n",
        "X_test = X_t[J].reshape((-1, 784))/255.0\n",
        "\n",
        "y_train = y_tr[I]\n",
        "y_test = y_t[J]\n",
        "\n",
        "print(np.shape(X_train))\n",
        "print(np.shape(X_test))\n",
        "\n",
        "print(y_train)\n",
        "print(y_test)"
      ],
      "metadata": {
        "id": "dopDz5DwPKhk",
        "colab": {
          "base_uri": "https://localhost:8080/"
        },
        "outputId": "82cbbd94-0cc2-48d8-9c7b-6a57ca273783"
      },
      "execution_count": 3,
      "outputs": [
        {
          "output_type": "stream",
          "name": "stdout",
          "text": [
            "(11982, 784)\n",
            "(1984, 784)\n",
            "[3 3 3 ... 8 3 8]\n",
            "[3 3 3 ... 3 8 3]\n"
          ]
        }
      ]
    },
    {
      "cell_type": "markdown",
      "source": [
        "# 2. Nearest neighbours"
      ],
      "metadata": {
        "id": "gz03ni1p-bL8"
      }
    },
    {
      "cell_type": "markdown",
      "source": [
        "Define and train a k-NN model with K = 7 and the neighbors are weighted by the inverse of their distance. Make predictions on test set and print out the accuracy."
      ],
      "metadata": {
        "id": "eQFMT4t5-SDo"
      }
    },
    {
      "cell_type": "code",
      "source": [
        "from sklearn.neighbors import KNeighborsClassifier\n",
        "clock = KNeighborsClassifier(n_neighbors=7, algorithm='ball_tree')\n",
        "clock.fit(X_train, y_train)\n",
        "\n",
        "clock.predict(X_test)\n",
        "from sklearn.metrics import accuracy_score\n",
        "accuracy_score(clock.predict(X_test), y_test)"
      ],
      "metadata": {
        "id": "Q5dY886m6hwe",
        "colab": {
          "base_uri": "https://localhost:8080/"
        },
        "outputId": "ce18cdbb-062b-4142-a458-7a5e03256b9e"
      },
      "execution_count": 4,
      "outputs": [
        {
          "output_type": "execute_result",
          "data": {
            "text/plain": [
              "0.9894153225806451"
            ]
          },
          "metadata": {},
          "execution_count": 4
        }
      ]
    },
    {
      "cell_type": "markdown",
      "source": [
        "# 3. Support vector machine (SVM)"
      ],
      "metadata": {
        "id": "XUDMMfEs_f3V"
      }
    },
    {
      "cell_type": "markdown",
      "source": [
        "Define and train an SVM Classifier with linear kernel and regularization parameter $C=1$. Make predictions on test set and print out the accuracy."
      ],
      "metadata": {
        "id": "v5lRkqww_8b9"
      }
    },
    {
      "cell_type": "code",
      "source": [
        "#Import svm model\n",
        "from sklearn import svm\n",
        "\n",
        "#Create a svm Classifier\n",
        "clf = svm.SVC(kernel='linear', C=1) # Linear Kernel\n",
        "\n",
        "#Train the model using the training sets\n",
        "clf.fit(X_train, y_train)\n",
        "\n",
        "#Predict the response for test dataset\n",
        "y_pred = clf.predict(X_test)\n",
        "\n",
        "#Import scikit-learn metrics module for accuracy calculation\n",
        "from sklearn import metrics\n",
        "\n",
        "# Model Accuracy: how often is the classifier correct?\n",
        "print(\"Accuracy:\",metrics.accuracy_score(y_test, y_pred))\n"
      ],
      "metadata": {
        "id": "FDjCm1Co-a3Y",
        "colab": {
          "base_uri": "https://localhost:8080/"
        },
        "outputId": "a5d5288a-d181-4e05-e61d-7eb8a10e978f"
      },
      "execution_count": 5,
      "outputs": [
        {
          "output_type": "stream",
          "name": "stdout",
          "text": [
            "Accuracy: 0.9702620967741935\n"
          ]
        }
      ]
    },
    {
      "cell_type": "markdown",
      "source": [
        "# 4. Logistic regression"
      ],
      "metadata": {
        "id": "6bFz8ZKGAkrP"
      }
    },
    {
      "cell_type": "markdown",
      "source": [
        "Define and train a logistic regression model with $\\ell_1$-penalty with regularization strength $C=1$ using liblinear optimizier. Make predictions on test set and print out the accuracy."
      ],
      "metadata": {
        "id": "2-dROr-pAqVc"
      }
    },
    {
      "cell_type": "code",
      "source": [
        "from sklearn.datasets import load_iris\n",
        "from sklearn.linear_model import LogisticRegression\n",
        "clf = LogisticRegression(random_state=0).fit(X_train, y_train)\n",
        "print(clf.predict(X_test))\n",
        "\n",
        "from sklearn import metrics\n",
        "\n",
        "# Model Accuracy: how often is the classifier correct?\n",
        "print(\"Accuracy:\",metrics.accuracy_score(y_test, clf.predict(X_test)))"
      ],
      "metadata": {
        "id": "SBgIUm2NAkZv",
        "colab": {
          "base_uri": "https://localhost:8080/"
        },
        "outputId": "711b61f3-58e7-46a9-c031-586e599d038b"
      },
      "execution_count": 6,
      "outputs": [
        {
          "output_type": "stream",
          "name": "stdout",
          "text": [
            "[3 3 3 ... 8 8 3]\n",
            "Accuracy: 0.9662298387096774\n"
          ]
        }
      ]
    }
  ]
}